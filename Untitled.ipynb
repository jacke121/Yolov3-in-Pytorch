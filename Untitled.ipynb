{
 "cells": [
  {
   "cell_type": "code",
   "execution_count": 1,
   "metadata": {
    "ExecuteTime": {
     "end_time": "2018-07-07T02:53:03.004657Z",
     "start_time": "2018-07-07T02:53:01.050356Z"
    }
   },
   "outputs": [],
   "source": [
    "from easydict import EasyDict as edict\n",
    "from matplotlib import pyplot as plt\n",
    "from torchvision import transforms as trans\n",
    "from PIL import Image\n",
    "from pathlib import Path\n",
    "import numpy as np\n",
    "# np.seterr(all='raise')\n",
    "import torch\n",
    "from torch import nn, optim\n",
    "# import torch.nn.functional as F\n",
    "from utils.vis_utils import *\n",
    "from utils.box_utils import *\n",
    "from utils.dataset_tools import *\n",
    "from utils.utils import *\n",
    "from tensorboardX import SummaryWriter\n",
    "from tqdm import tqdm_notebook as tqdm\n",
    "from imgaug import augmenters as iaa\n",
    "from torch.utils.data import DataLoader\n",
    "from models.Yolo_model import Yolo_model, build_targets, yolo_loss\n",
    "from Yolo_learner_V2 import Yolo"
   ]
  },
  {
   "cell_type": "code",
   "execution_count": 3,
   "metadata": {
    "ExecuteTime": {
     "end_time": "2018-07-07T02:54:02.346793Z",
     "start_time": "2018-07-07T02:54:02.345027Z"
    }
   },
   "outputs": [],
   "source": [
    "conf = edict()"
   ]
  },
  {
   "cell_type": "code",
   "execution_count": 4,
   "metadata": {
    "ExecuteTime": {
     "end_time": "2018-07-07T02:54:02.835578Z",
     "start_time": "2018-07-07T02:54:02.561970Z"
    }
   },
   "outputs": [],
   "source": [
    "conf.num_anchors = 3\n",
    "conf.resolutions = [416,224,288,352,416,480,544,608]\n",
    "conf.batch_sizes = [16,42,27,19,16,11,8,5]\n",
    "conf.res_2_idx = edict({'ft':0, '224':1, '288':2, '352':3, '416':4, '480':5, '544':6, '608':7})\n",
    "conf.idx_2_res = edict()\n",
    "for k,v in conf.res_2_idx.items():\n",
    "    conf.idx_2_res[str(v)] = k\n",
    "conf.input_size = 416\n",
    "conf.scales = [32, 16, 8]\n",
    "\n",
    "conf.running_norm = 0.\n",
    "# conf.gdclip = 3000.\n",
    "conf.device = torch.device(\"cuda:0\" if torch.cuda.is_available() else \"cpu\")\n",
    "conf.num_workers = [2,4,4,4,2,2,2,2]\n",
    "conf.batch_size = 16\n",
    "conf.gdclip = None\n",
    "conf.coord_scale_xy = 2.\n",
    "conf.coord_scale_wh = 20\n",
    "conf.noobject_scale = 0.5\n",
    "conf.object_scale = 5\n",
    "conf.class_scale = 5.\n",
    "conf.ignore_thresh = 0.5\n",
    "conf.evaluate_iou_threshold = 0.5\n",
    "conf.predict_confidence_threshold = 0.5\n",
    "conf.pred_nms_iou_threshold = 0.4\n",
    "conf.object_only_on_predict = False\n",
    "conf.warm_up_img_num = 12800"
   ]
  },
  {
   "cell_type": "code",
   "execution_count": 6,
   "metadata": {
    "ExecuteTime": {
     "end_time": "2018-07-07T02:54:31.661866Z",
     "start_time": "2018-07-07T02:54:31.659224Z"
    }
   },
   "outputs": [],
   "source": [
    "transform_test = trans.Compose([\n",
    "    trans.Resize([conf.input_size, conf.input_size]),\n",
    "    trans.ToTensor(),\n",
    "    trans.Normalize(0.5, 0.5)\n",
    "])"
   ]
  },
  {
   "cell_type": "code",
   "execution_count": 8,
   "metadata": {
    "ExecuteTime": {
     "end_time": "2018-07-07T03:05:40.259540Z",
     "start_time": "2018-07-07T03:05:40.257305Z"
    }
   },
   "outputs": [],
   "source": [
    "img = Image.fromarray(np.ones([30,50],dtype=np.uint8))"
   ]
  },
  {
   "cell_type": "code",
   "execution_count": 12,
   "metadata": {
    "ExecuteTime": {
     "end_time": "2018-07-07T03:06:00.718633Z",
     "start_time": "2018-07-07T03:06:00.715713Z"
    }
   },
   "outputs": [
    {
     "data": {
      "text/plain": [
       "(50, 30)"
      ]
     },
     "execution_count": 12,
     "metadata": {},
     "output_type": "execute_result"
    }
   ],
   "source": [
    "conf.input_size"
   ]
  }
 ],
 "metadata": {
  "hide_input": false,
  "kernelspec": {
   "display_name": "Python 3",
   "language": "python",
   "name": "python3"
  },
  "language_info": {
   "codemirror_mode": {
    "name": "ipython",
    "version": 3
   },
   "file_extension": ".py",
   "mimetype": "text/x-python",
   "name": "python",
   "nbconvert_exporter": "python",
   "pygments_lexer": "ipython3",
   "version": "3.6.3"
  }
 },
 "nbformat": 4,
 "nbformat_minor": 2
}
