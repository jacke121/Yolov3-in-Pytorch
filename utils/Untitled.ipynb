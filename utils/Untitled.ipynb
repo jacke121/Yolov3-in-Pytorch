{
 "cells": [
  {
   "cell_type": "code",
   "execution_count": 1,
   "metadata": {
    "ExecuteTime": {
     "end_time": "2018-07-07T01:01:02.288029Z",
     "start_time": "2018-07-07T01:01:02.286096Z"
    }
   },
   "outputs": [],
   "source": [
    "from utils import get_time"
   ]
  },
  {
   "cell_type": "code",
   "execution_count": 2,
   "metadata": {
    "ExecuteTime": {
     "end_time": "2018-07-07T01:01:07.691119Z",
     "start_time": "2018-07-07T01:01:07.685032Z"
    }
   },
   "outputs": [
    {
     "data": {
      "text/plain": [
       "'2018-07-07-01-01'"
      ]
     },
     "execution_count": 2,
     "metadata": {},
     "output_type": "execute_result"
    }
   ],
   "source": [
    "get_time()"
   ]
  },
  {
   "cell_type": "code",
   "execution_count": 28,
   "metadata": {
    "ExecuteTime": {
     "end_time": "2018-07-07T01:19:49.349984Z",
     "start_time": "2018-07-07T01:19:49.347740Z"
    }
   },
   "outputs": [],
   "source": [
    "from datetime import datetime,timezone"
   ]
  },
  {
   "cell_type": "code",
   "execution_count": 4,
   "metadata": {
    "ExecuteTime": {
     "end_time": "2018-07-07T01:01:36.615910Z",
     "start_time": "2018-07-07T01:01:36.613520Z"
    }
   },
   "outputs": [
    {
     "data": {
      "text/plain": [
       "datetime.datetime(2018, 7, 7, 1, 1, 36, 614043)"
      ]
     },
     "execution_count": 4,
     "metadata": {},
     "output_type": "execute_result"
    }
   ],
   "source": [
    "datetime.now()"
   ]
  },
  {
   "cell_type": "code",
   "execution_count": 44,
   "metadata": {
    "ExecuteTime": {
     "end_time": "2018-07-07T01:41:59.479815Z",
     "start_time": "2018-07-07T01:41:59.473468Z"
    }
   },
   "outputs": [
    {
     "ename": "NameError",
     "evalue": "name 'tzlocal' is not defined",
     "output_type": "error",
     "traceback": [
      "\u001b[0;31m---------------------------------------------------------------------------\u001b[0m",
      "\u001b[0;31mNameError\u001b[0m                                 Traceback (most recent call last)",
      "\u001b[0;32m<ipython-input-44-714523cdc185>\u001b[0m in \u001b[0;36m<module>\u001b[0;34m()\u001b[0m\n\u001b[0;32m----> 1\u001b[0;31m \u001b[0mdatetime\u001b[0m\u001b[0;34m.\u001b[0m\u001b[0mnow\u001b[0m\u001b[0;34m(\u001b[0m\u001b[0mtzlocal\u001b[0m\u001b[0;34m(\u001b[0m\u001b[0;34m)\u001b[0m\u001b[0;34m)\u001b[0m\u001b[0;34m.\u001b[0m\u001b[0mtzname\u001b[0m\u001b[0;34m(\u001b[0m\u001b[0;34m)\u001b[0m\u001b[0;34m\u001b[0m\u001b[0m\n\u001b[0m",
      "\u001b[0;31mNameError\u001b[0m: name 'tzlocal' is not defined"
     ]
    }
   ],
   "source": [
    "datetime.now(tzlocal()).tzname()"
   ]
  },
  {
   "cell_type": "code",
   "execution_count": 42,
   "metadata": {
    "ExecuteTime": {
     "end_time": "2018-07-07T01:39:46.725204Z",
     "start_time": "2018-07-07T01:39:46.722665Z"
    }
   },
   "outputs": [
    {
     "data": {
      "text/plain": [
       "('UTC', 'UTC')"
      ]
     },
     "execution_count": 42,
     "metadata": {},
     "output_type": "execute_result"
    }
   ],
   "source": [
    "import time\n",
    "time.tzname"
   ]
  },
  {
   "cell_type": "code",
   "execution_count": 5,
   "metadata": {
    "ExecuteTime": {
     "end_time": "2018-07-07T01:03:06.270513Z",
     "start_time": "2018-07-07T01:03:06.268772Z"
    }
   },
   "outputs": [],
   "source": [
    "import time"
   ]
  },
  {
   "cell_type": "code",
   "execution_count": 41,
   "metadata": {
    "ExecuteTime": {
     "end_time": "2018-07-07T01:25:42.652294Z",
     "start_time": "2018-07-07T01:25:42.646404Z"
    }
   },
   "outputs": [
    {
     "ename": "TypeError",
     "evalue": "descriptor 'utcoffset' requires a 'datetime.timezone' object but received a 'int'",
     "output_type": "error",
     "traceback": [
      "\u001b[0;31m---------------------------------------------------------------------------\u001b[0m",
      "\u001b[0;31mTypeError\u001b[0m                                 Traceback (most recent call last)",
      "\u001b[0;32m<ipython-input-41-285159d747ea>\u001b[0m in \u001b[0;36m<module>\u001b[0;34m()\u001b[0m\n\u001b[0;32m----> 1\u001b[0;31m \u001b[0mtimezone\u001b[0m\u001b[0;34m.\u001b[0m\u001b[0mutcoffset\u001b[0m\u001b[0;34m(\u001b[0m\u001b[0;36m8\u001b[0m\u001b[0;34m)\u001b[0m\u001b[0;34m\u001b[0m\u001b[0m\n\u001b[0m",
      "\u001b[0;31mTypeError\u001b[0m: descriptor 'utcoffset' requires a 'datetime.timezone' object but received a 'int'"
     ]
    }
   ],
   "source": [
    "timezone.utcoffset(8)"
   ]
  },
  {
   "cell_type": "code",
   "execution_count": 29,
   "metadata": {
    "ExecuteTime": {
     "end_time": "2018-07-07T01:19:55.916812Z",
     "start_time": "2018-07-07T01:19:55.914729Z"
    }
   },
   "outputs": [],
   "source": [
    "LOCAL_TIMEZONE = datetime.now(timezone.utc).astimezone().tzinfo"
   ]
  },
  {
   "cell_type": "code",
   "execution_count": 33,
   "metadata": {
    "ExecuteTime": {
     "end_time": "2018-07-07T01:20:44.923766Z",
     "start_time": "2018-07-07T01:20:44.921064Z"
    }
   },
   "outputs": [
    {
     "data": {
      "text/plain": [
       "'2018-07-07 01:20:44.921763+00:00'"
      ]
     },
     "execution_count": 33,
     "metadata": {},
     "output_type": "execute_result"
    }
   ],
   "source": [
    "str(datetime.now(LOCAL_TIMEZONE))"
   ]
  },
  {
   "cell_type": "code",
   "execution_count": 35,
   "metadata": {
    "ExecuteTime": {
     "end_time": "2018-07-07T01:21:14.246855Z",
     "start_time": "2018-07-07T01:21:14.244328Z"
    }
   },
   "outputs": [
    {
     "data": {
      "text/plain": [
       "'2018-07-07-01-21'"
      ]
     },
     "execution_count": 35,
     "metadata": {},
     "output_type": "execute_result"
    }
   ],
   "source": [
    "get_time()"
   ]
  }
 ],
 "metadata": {
  "hide_input": false,
  "kernelspec": {
   "display_name": "Python 3",
   "language": "python",
   "name": "python3"
  },
  "language_info": {
   "codemirror_mode": {
    "name": "ipython",
    "version": 3
   },
   "file_extension": ".py",
   "mimetype": "text/x-python",
   "name": "python",
   "nbconvert_exporter": "python",
   "pygments_lexer": "ipython3",
   "version": "3.6.3"
  }
 },
 "nbformat": 4,
 "nbformat_minor": 2
}
