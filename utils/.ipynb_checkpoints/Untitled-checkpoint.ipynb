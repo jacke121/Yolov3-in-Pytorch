{
 "cells": [
  {
   "cell_type": "code",
   "execution_count": 3,
   "metadata": {
    "ExecuteTime": {
     "end_time": "2018-07-05T19:41:46.559437Z",
     "start_time": "2018-07-05T19:41:46.557194Z"
    }
   },
   "outputs": [],
   "source": [
    "import colorsys\n",
    "import random\n",
    "import numpy as np\n",
    "from PIL import Image,ImageDraw,ImageFont\n",
    "# from box_utils import *\n",
    "from torchvision import transforms as trans\n",
    "# from vis_utils import *"
   ]
  },
  {
   "cell_type": "code",
   "execution_count": 5,
   "metadata": {
    "ExecuteTime": {
     "end_time": "2018-07-05T19:43:52.937395Z",
     "start_time": "2018-07-05T19:43:52.934819Z"
    }
   },
   "outputs": [],
   "source": [
    "def random_colors(N, bright=True):\n",
    "    \"\"\"\n",
    "    Generate random colors.\n",
    "    To get visually distinct colors, generate them in HSV space then\n",
    "    convert to RGB.\n",
    "    \"\"\"\n",
    "    brightness = 1.0 if bright else 0.7\n",
    "    hsv = [(i / N, 1, brightness) for i in range(N)]\n",
    "    colors = list(map(lambda c: colorsys.hsv_to_rgb(*c), hsv))\n",
    "    random.shuffle(colors)\n",
    "    colors = (np.array(colors) * 255).astype(int)\n",
    "    return colors"
   ]
  },
  {
   "cell_type": "code",
   "execution_count": 6,
   "metadata": {
    "ExecuteTime": {
     "end_time": "2018-07-05T19:43:53.974893Z",
     "start_time": "2018-07-05T19:43:53.972945Z"
    }
   },
   "outputs": [],
   "source": [
    "colors = random_colors(10)"
   ]
  },
  {
   "cell_type": "code",
   "execution_count": 7,
   "metadata": {
    "ExecuteTime": {
     "end_time": "2018-07-05T19:43:57.825009Z",
     "start_time": "2018-07-05T19:43:57.822728Z"
    }
   },
   "outputs": [],
   "source": [
    "class_2_color = []\n",
    "for i in range(10):\n",
    "    class_2_color.append((colors[i][0],colors[i][1],colors[i][2]))"
   ]
  },
  {
   "cell_type": "code",
   "execution_count": 8,
   "metadata": {
    "ExecuteTime": {
     "end_time": "2018-07-05T19:43:59.624475Z",
     "start_time": "2018-07-05T19:43:59.618376Z"
    }
   },
   "outputs": [
    {
     "data": {
      "text/plain": [
       "(50, 0, 255)"
      ]
     },
     "execution_count": 8,
     "metadata": {},
     "output_type": "execute_result"
    }
   ],
   "source": [
    "class_2_color[0]"
   ]
  },
  {
   "cell_type": "code",
   "execution_count": 9,
   "metadata": {
    "ExecuteTime": {
     "end_time": "2018-07-05T19:44:00.558083Z",
     "start_time": "2018-07-05T19:44:00.554092Z"
    }
   },
   "outputs": [],
   "source": [
    "truefont = ImageFont.truetype('/root/Notebooks/fonts/arial.ttf',size=12)"
   ]
  },
  {
   "cell_type": "code",
   "execution_count": 35,
   "metadata": {
    "ExecuteTime": {
     "end_time": "2018-07-05T19:46:32.934463Z",
     "start_time": "2018-07-05T19:46:32.931853Z"
    }
   },
   "outputs": [],
   "source": [
    "a,b = draw.textsize('car',font=truefont)"
   ]
  },
  {
   "cell_type": "code",
   "execution_count": 58,
   "metadata": {
    "ExecuteTime": {
     "end_time": "2018-07-05T19:56:17.072812Z",
     "start_time": "2018-07-05T19:56:17.070704Z"
    }
   },
   "outputs": [],
   "source": [
    "text = 'Sandwitch'"
   ]
  },
  {
   "cell_type": "code",
   "execution_count": 59,
   "metadata": {
    "ExecuteTime": {
     "end_time": "2018-07-05T19:56:17.666720Z",
     "start_time": "2018-07-05T19:56:17.656115Z"
    }
   },
   "outputs": [],
   "source": [
    "img = Image.fromarray(np.zeros([300,300,3],dtype=np.uint8))\n",
    "\n",
    "draw = ImageDraw.Draw(img)\n",
    "\n",
    "text_w, text_h = draw.textsize(text,font=truefont)\n",
    "\n",
    "draw.rectangle([(100,100-b),(100+a,100)],fill = class_2_color[5])\n",
    "\n",
    "draw.text((100,100-b),text=text, fill='black', font=truefont)"
   ]
  },
  {
   "cell_type": "code",
   "execution_count": 60,
   "metadata": {
    "ExecuteTime": {
     "end_time": "2018-07-05T19:56:18.034943Z",
     "start_time": "2018-07-05T19:56:18.031106Z"
    }
   },
   "outputs": [
    {
     "data": {
      "image/png": "[encoded data removed]",
      "text/plain": [
       "<PIL.Image.Image image mode=RGB size=300x300 at 0x7F4A348CD8D0>"
      ]
     },
     "execution_count": 60,
     "metadata": {},
     "output_type": "execute_result"
    }
   ],
   "source": [
    "img"
   ]
  },
  {
   "cell_type": "code",
   "execution_count": 16,
   "metadata": {
    "ExecuteTime": {
     "end_time": "2018-07-04T02:54:11.534629Z",
     "start_time": "2018-07-04T02:54:11.531700Z"
    }
   },
   "outputs": [
    {
     "data": {
      "text/plain": [
       "(416, 616)"
      ]
     },
     "execution_count": 16,
     "metadata": {},
     "output_type": "execute_result"
    }
   ],
   "source": [
    "img.size"
   ]
  }
 ],
 "metadata": {
  "hide_input": false,
  "kernelspec": {
   "display_name": "Python 3",
   "language": "python",
   "name": "python3"
  },
  "language_info": {
   "codemirror_mode": {
    "name": "ipython",
    "version": 3
   },
   "file_extension": ".py",
   "mimetype": "text/x-python",
   "name": "python",
   "nbconvert_exporter": "python",
   "pygments_lexer": "ipython3",
   "version": "3.6.3"
  }
 },
 "nbformat": 4,
 "nbformat_minor": 2
}
