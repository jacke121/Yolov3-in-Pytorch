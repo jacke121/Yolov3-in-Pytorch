{
 "cells": [
  {
   "cell_type": "markdown",
   "metadata": {
    "heading_collapsed": true
   },
   "source": [
    "### This implementation  is not 100% same with the original version !"
   ]
  },
  {
   "cell_type": "markdown",
   "metadata": {},
   "source": [
    "### The diffrence between this repo and the original [YOLOv3][paperlink]:\n",
    "[paperlink]: https://pjreddie.com/media/files/papers/YOLOv3.pdf\n",
    "1. Using Resnet50 as detection backbone instead of Darknet53.\n",
    "2. Switch the individual binary classifier with softmax cross-entropy loss"
   ]
  },
  {
   "cell_type": "markdown",
   "metadata": {
    "ExecuteTime": {
     "end_time": "2018-07-05T20:07:55.469126Z",
     "start_time": "2018-07-05T20:07:55.466253Z"
    }
   },
   "source": [
    "### Things that have been done:\n",
    "1. Full pytorch and numpy implementation of YOLOv3 training and detection\n",
    "2. Multi-Scale Training mentioned in the paper\n",
    "-> so far as I noticed, this one is not implemented by a lot of posts about yolo out there.\n",
    "3. Using all the things mentioned above, trained the model in Coco dataset, gaining a MAP of xxx at iou of 0.5.\n",
    "-> "
   ]
  },
  {
   "cell_type": "code",
   "execution_count": null,
   "metadata": {},
   "outputs": [],
   "source": []
  }
 ],
 "metadata": {
  "hide_input": false,
  "kernelspec": {
   "display_name": "Python 3",
   "language": "python",
   "name": "python3"
  },
  "language_info": {
   "codemirror_mode": {
    "name": "ipython",
    "version": 3
   },
   "file_extension": ".py",
   "mimetype": "text/x-python",
   "name": "python",
   "nbconvert_exporter": "python",
   "pygments_lexer": "ipython3",
   "version": "3.6.3"
  }
 },
 "nbformat": 4,
 "nbformat_minor": 2
}
