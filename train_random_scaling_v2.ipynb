{
 "cells": [
  {
   "cell_type": "code",
   "execution_count": null,
   "metadata": {
    "ExecuteTime": {
     "end_time": "2018-07-08T13:54:13.208058Z",
     "start_time": "2018-07-08T13:54:13.025560Z"
    }
   },
   "outputs": [],
   "source": [
    "# see http://stackoverflow.com/questions/1907993/autoreload-of-modules-in-ipython\n",
    "%load_ext autoreload\n",
    "%autoreload 2\n",
    "%matplotlib inline\n",
    "import pdb"
   ]
  },
  {
   "cell_type": "code",
   "execution_count": null,
   "metadata": {
    "ExecuteTime": {
     "end_time": "2018-07-08T13:54:14.405361Z",
     "start_time": "2018-07-08T13:54:13.209165Z"
    }
   },
   "outputs": [],
   "source": [
    "from easydict import EasyDict as edict\n",
    "from matplotlib import pyplot as plt\n",
    "from torchvision import transforms as trans\n",
    "from PIL import Image\n",
    "from pathlib import Path\n",
    "import numpy as np\n",
    "import torch\n",
    "from torch import nn, optim\n",
    "# import torch.nn.functional as F\n",
    "from utils.vis_utils import *\n",
    "from utils.box_utils import *\n",
    "from utils.dataset_tools import *\n",
    "from utils.utils import *\n",
    "from tensorboardX import SummaryWriter\n",
    "from tqdm import tqdm_notebook as tqdm\n",
    "from imgaug import augmenters as iaa\n",
    "from torch.utils.data import DataLoader\n",
    "from models.Yolo_model import Yolo_model, build_targets, yolo_loss\n",
    "from Yolo_learner_V2 import Yolo\n",
    "import json"
   ]
  },
  {
   "cell_type": "code",
   "execution_count": null,
   "metadata": {
    "ExecuteTime": {
     "end_time": "2018-07-08T13:54:23.807031Z",
     "start_time": "2018-07-08T13:54:14.406480Z"
    }
   },
   "outputs": [],
   "source": [
    "conf = edict()\n",
    "\n",
    "conf.coco_anchors = [[10, 13], [16, 30], [33, 23], [30, 61], [62, 45],\n",
    "                     [59, 119], [116, 90], [156, 198], [373, 326]]\n",
    "conf.train_path = Path('data/coco2017/train2017/')\n",
    "conf.train_anno_path = Path(\n",
    "    'data/coco2017/annotations/instances_train2017.json')\n",
    "conf.val_path = Path('data/coco2017/val2017/')\n",
    "conf.val_anno_path = Path(\n",
    "    'data/coco2017/annotations/instances_val2017.json')\n",
    "conf.log_path = Path('work_space/log')\n",
    "conf.model_path = Path('work_space/model')\n",
    "conf.save_path = Path('work_space/save')\n",
    "conf.ids_path = 'data/ids.npy'\n",
    "\n",
    "maps,_ = get_id_maps(conf)\n",
    "conf.correct_id_2_class = json.load(open('data/correct_id_2_class.json','r'))\n",
    "conf.class_num = len(conf.correct_id_2_class)"
   ]
  },
  {
   "cell_type": "code",
   "execution_count": null,
   "metadata": {
    "ExecuteTime": {
     "end_time": "2018-07-08T13:54:36.572601Z",
     "start_time": "2018-07-08T13:54:23.808146Z"
    }
   },
   "outputs": [],
   "source": [
    "conf.num_anchors = 3\n",
    "conf.resolutions = [416,224,288,352,416,480,544,608]\n",
    "conf.batch_sizes = [16,42,27,19,16,11,8,5]\n",
    "conf.res_2_idx = edict({'ft':0, '224':1, '288':2, '352':3, '416':4, '480':5, '544':6, '608':7})\n",
    "conf.idx_2_res = edict()\n",
    "for k,v in conf.res_2_idx.items():\n",
    "    conf.idx_2_res[str(v)] = k\n",
    "conf.input_size = 416\n",
    "conf.scales = [32, 16, 8]\n",
    "conf.running_norm = 0.\n",
    "# conf.gdclip = 3000.\n",
    "conf.device = torch.device(\"cuda:0\" if torch.cuda.is_available() else \"cpu\")\n",
    "conf.num_workers = [2,4,4,4,2,2,2,2]\n",
    "conf.batch_size = 16\n",
    "conf.gdclip = None\n",
    "conf.coord_scale_xy = 2.\n",
    "conf.coord_scale_wh = 20\n",
    "conf.noobject_scale = 0.5\n",
    "conf.object_scale = 5\n",
    "conf.class_scale = 5.\n",
    "conf.ignore_thresh = 0.5\n",
    "conf.evaluate_iou_threshold = 0.5\n",
    "conf.predict_confidence_threshold = 0.5\n",
    "conf.pred_nms_iou_threshold = 0.4\n",
    "conf.object_only_on_predict = False\n",
    "conf.warm_up_img_num = 12800\n",
    "\n",
    "model = Yolo_model(conf)\n",
    "model.to(conf.device)\n",
    "conf.mean = model.res50_pyramid.model.mean\n",
    "conf.std = model.res50_pyramid.model.std\n",
    "\n",
    "conf.mse_loss = nn.MSELoss(size_average=False)\n",
    "conf.bce_loss = nn.BCEWithLogitsLoss(size_average=False)\n",
    "\n",
    "train_ds = Coco_dataset(conf, conf.train_path, conf.train_anno_path, maps)\n",
    "train_loader = DataLoader(\n",
    "    train_ds,\n",
    "    batch_size=conf.batch_size,\n",
    "    shuffle=True,\n",
    "    collate_fn=coco_collate_fn,\n",
    "    pin_memory=False,\n",
    "    num_workers=conf.num_workers[0])\n",
    "conf.eva_batches = 100\n",
    "conf.board_loss_every = len(train_loader) // 100\n",
    "conf.evaluate_every = len(train_loader) // 10\n",
    "conf.board_pred_image_every = len(train_loader) // 2\n",
    "conf.save_every = len(train_loader) // 2\n",
    "conf.board_grad_norm = len(train_loader) // 10\n",
    "val_dataset = datasets.CocoDetection(conf.val_path, conf.val_anno_path)\n",
    "val_dataset.maps = maps\n",
    "conf.transform_test = trans.Compose([\n",
    "    trans.Resize([conf.input_size, conf.input_size]),\n",
    "    trans.ToTensor(),\n",
    "    trans.Normalize(conf.mean, conf.std)\n",
    "])\n",
    "val_loader = Coco_loader(\n",
    "    conf,\n",
    "    val_dataset,\n",
    "    conf.transform_test,\n",
    "    batch_size=conf.batch_size,\n",
    "    hflip=False,\n",
    "    shuffle=False)"
   ]
  },
  {
   "cell_type": "code",
   "execution_count": null,
   "metadata": {
    "ExecuteTime": {
     "end_time": "2018-07-08T13:54:53.547816Z",
     "start_time": "2018-07-08T13:54:36.573606Z"
    }
   },
   "outputs": [],
   "source": [
    "paras_ft = [*model.parameters()][159:]\n",
    "optimizer_ft = optim.SGD(paras_ft,lr=1e-5,momentum=0.9,weight_decay=1e-4)\n",
    "yolo = Yolo(conf,model,train_loader,val_loader,optimizer_ft)\n",
    "yolo.train(conf,3)\n",
    "\n",
    "paras = model.parameters()\n",
    "yolo.optimizer = optim.SGD(paras,lr=1e-5,momentum=0.9,weight_decay=1e-4)\n",
    "for idx in [1, 7, 2, 6, 3, 5, 4]:\n",
    "    scaling_model(conf, idx, yolo, train_ds)\n",
    "    yolo.train(conf, 3)\n",
    "\n",
    "for e in range(60):\n",
    "    if e % 20 ==0 and e != 0:        \n",
    "        for param_group in yolo.optimizer.param_groups:\n",
    "            param_group['lr'] /= 10.\n",
    "        print('learning rate scaled to {}'.format(yolo.optimizer.param_groups[0]['lr']))\n",
    "    random_scaling(conf, yolo, train_ds)\n",
    "    yolo.train(conf, 1)"
   ]
  },
  {
   "cell_type": "code",
   "execution_count": null,
   "metadata": {
    "ExecuteTime": {
     "end_time": "2018-07-05T23:09:10.019053Z",
     "start_time": "2018-07-05T23:09:06.464772Z"
    },
    "deletable": false,
    "editable": false,
    "run_control": {
     "frozen": true
    }
   },
   "outputs": [],
   "source": [
    "yolo.save_state(conf, 'new', conf.idx_2_res[str(yolo.res_idx)])"
   ]
  },
  {
   "cell_type": "code",
   "execution_count": null,
   "metadata": {
    "ExecuteTime": {
     "end_time": "2018-07-08T13:13:43.340619Z",
     "start_time": "2018-07-08T13:13:44.555Z"
    },
    "deletable": false,
    "editable": false,
    "run_control": {
     "frozen": true
    }
   },
   "outputs": [],
   "source": [
    "yolo.model.load_state_dict(\n",
    "    torch.load(\n",
    "        conf.model_path /\n",
    "        '2018-07-07-21-59_val_loss:latest_model_seen:6507681_step:[22176, 30987, 43810, 59147, 51751, 83904, 94529, 141948]_None.pth'\n",
    "    ))\n",
    "yolo.optimizer.load_state_dict(\n",
    "    torch.load(\n",
    "        conf.model_path /\n",
    "        '2018-07-07-21-59_val_loss:latest_optimizer_seen:6507681_step:[22176, 30987, 43810, 59147, 51751, 83904, 94529, 141948]_None.pth'\n",
    "    ))\n",
    "yolo.seen = 6507681\n",
    "yolo.steps = [22176, 30987, 43810, 59147, 51751, 83904, 94529, 141948]"
   ]
  }
 ],
 "metadata": {
  "hide_input": false,
  "kernelspec": {
   "display_name": "Python 3",
   "language": "python",
   "name": "python3"
  },
  "language_info": {
   "codemirror_mode": {
    "name": "ipython",
    "version": 3
   },
   "file_extension": ".py",
   "mimetype": "text/x-python",
   "name": "python",
   "nbconvert_exporter": "python",
   "pygments_lexer": "ipython3",
   "version": "3.6.4"
  }
 },
 "nbformat": 4,
 "nbformat_minor": 2
}
