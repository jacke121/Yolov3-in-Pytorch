{
 "cells": [
  {
   "cell_type": "code",
   "execution_count": 1,
   "metadata": {
    "ExecuteTime": {
     "end_time": "2018-07-08T05:42:13.372512Z",
     "start_time": "2018-07-08T05:42:12.067799Z"
    }
   },
   "outputs": [],
   "source": [
    "from easydict import EasyDict as edict\n",
    "from PIL import Image\n",
    "from pathlib import Path\n",
    "import numpy as np\n",
    "import torch\n",
    "from torch import nn\n",
    "from utils.vis_utils import *\n",
    "from utils.box_utils import *\n",
    "from utils.dataset_tools import *\n",
    "from utils.utils import *\n",
    "from models.Yolo_model import Yolo_model, build_targets, yolo_loss\n",
    "from Yolo_learner_V2 import Yolo\n",
    "from tqdm import tqdm_notebook as tqdm\n",
    "import json\n",
    "\n",
    "conf = edict()\n",
    "\n",
    "conf.coco_anchors = [[10, 13], [16, 30], [33, 23], [30, 61], [62, 45],\n",
    "                     [59, 119], [116, 90], [156, 198], [373, 326]]\n",
    "\n",
    "conf.correct_id_2_class = json.load(open('data/correct_id_2_class.json','r'))\n",
    "conf.class_num = len(conf.correct_id_2_class)\n",
    "conf.log_path = Path('work_space/log')\n",
    "conf.model_path = Path('work_space/model')\n",
    "conf.save_path = Path('work_space/save')\n",
    "\n",
    "conf.num_anchors = 3\n",
    "conf.resolutions = [416,224,288,352,416,480,544,608]\n",
    "conf.batch_sizes = [16,42,27,19,16,11,8,5]\n",
    "conf.res_2_idx = edict({'ft':0, '224':1, '288':2, '352':3, '416':4, '480':5, '544':6, '608':7})\n",
    "conf.idx_2_res = edict()\n",
    "for k,v in conf.res_2_idx.items():\n",
    "    conf.idx_2_res[str(v)] = k\n",
    "conf.input_size = 416\n",
    "conf.scales = [32, 16, 8]\n",
    "\n",
    "conf.running_norm = 0.\n",
    "# conf.gdclip = 3000.\n",
    "conf.device = torch.device(\"cuda:0\" if torch.cuda.is_available() else \"cpu\")\n",
    "conf.num_workers = [2,4,4,4,2,2,2,2]\n",
    "conf.batch_size = 16\n",
    "conf.gdclip = None\n",
    "conf.coord_scale_xy = 2.\n",
    "conf.coord_scale_wh = 20\n",
    "conf.noobject_scale = 0.5\n",
    "conf.object_scale = 5\n",
    "conf.class_scale = 5.\n",
    "conf.ignore_thresh = 0.5\n",
    "conf.evaluate_iou_threshold = 0.5\n",
    "conf.predict_confidence_threshold = 0.7\n",
    "conf.pred_nms_iou_threshold = 0.3\n",
    "conf.object_only_on_predict = True\n",
    "conf.warm_up_img_num = 12800\n",
    "\n",
    "model = Yolo_model(conf)\n",
    "model.to(conf.device)\n",
    "conf.mean = model.res50_pyramid.model.mean\n",
    "conf.std = model.res50_pyramid.model.std\n",
    "\n",
    "conf.mse_loss = nn.MSELoss(size_average=False)\n",
    "conf.bce_loss = nn.BCEWithLogitsLoss(size_average=False)\n",
    "\n",
    "conf.transform_test = trans.Compose([\n",
    "    trans.Resize([conf.input_size, conf.input_size]),\n",
    "    trans.ToTensor(),\n",
    "    trans.Normalize(conf.mean, conf.std)\n",
    "])\n",
    "\n",
    "yolo = Yolo(conf,model,None,None,None,init_writers = False)\n",
    "\n",
    "yolo.model.load_state_dict(\n",
    "    torch.load(\n",
    "        conf.model_path /\n",
    "        '2018-07-07-21-59_val_loss:latest_model_seen:6507681_step:[22176, 30987, 43810, 59147, 51751, 83904, 94529, 141948]_None.pth'\n",
    "    ))"
   ]
  },
  {
   "cell_type": "code",
   "execution_count": 28,
   "metadata": {
    "ExecuteTime": {
     "end_time": "2018-07-08T06:28:50.707276Z",
     "start_time": "2018-07-08T06:28:50.694104Z"
    }
   },
   "outputs": [],
   "source": [
    "from skvideo import io\n",
    "import cv2\n",
    "def detect_video(video_file, out_path, yolo, level=0):\n",
    "    \"\"\"Use yolo v3 to detect video.\n",
    "    # Argument:\n",
    "        video: video file.\n",
    "        yolo: YOLO, yolo model.\n",
    "        level : on which resolution to run detection, \n",
    "        range[1 - 7], default is 416\n",
    "        the resolution list is in conf.resolutions\n",
    "    \"\"\"\n",
    "    videogen = io.vreader(video_file)\n",
    "    metdata = io.ffprobe(video_file)\n",
    "    frame_rate = int(int(metdata['video']['@avg_frame_rate'].split('/')[0]) / int(metdata['video']['@avg_frame_rate'].split('/')[1]))\n",
    "    frame = next(videogen)\n",
    "    shape = (frame.shape[1], frame.shape[0])\n",
    "    video_writer = cv2.VideoWriter(out_path,cv2.VideoWriter_fourcc(*'XVID'), frame_rate, shape)\n",
    "    for frame in tqdm(videogen, total = int(metdata['video']['@nb_frames'])):\n",
    "        detected_frame = np.array(yolo.detect_on_img(conf, Image.fromarray(frame), level=level))[...,::-1]\n",
    "#         pdb.set_trace()\n",
    "        video_writer.write(detected_frame)\n",
    "    video_writer.release()\n",
    "    videogen.close()"
   ]
  },
  {
   "cell_type": "code",
   "execution_count": 13,
   "metadata": {
    "ExecuteTime": {
     "end_time": "2018-07-08T06:04:01.516589Z",
     "start_time": "2018-07-08T06:03:02.766384Z"
    }
   },
   "outputs": [
    {
     "data": {
      "application/vnd.jupyter.widget-view+json": {
       "model_id": "e3f96ff13ab2439dae77605650169cc9",
       "version_major": 2,
       "version_minor": 0
      },
      "text/html": [
       "<p>Failed to display Jupyter Widget of type <code>HBox</code>.</p>\n",
       "<p>\n",
       "  If you're reading this message in the Jupyter Notebook or JupyterLab Notebook, it may mean\n",
       "  that the widgets JavaScript is still loading. If this message persists, it\n",
       "  likely means that the widgets JavaScript library is either not installed or\n",
       "  not enabled. See the <a href=\"https://ipywidgets.readthedocs.io/en/stable/user_install.html\">Jupyter\n",
       "  Widgets Documentation</a> for setup instructions.\n",
       "</p>\n",
       "<p>\n",
       "  If you're reading this message in another frontend (for example, a static\n",
       "  rendering on GitHub or <a href=\"https://nbviewer.jupyter.org/\">NBViewer</a>),\n",
       "  it may mean that your frontend doesn't currently support widgets.\n",
       "</p>\n"
      ],
      "text/plain": [
       "HBox(children=(IntProgress(value=0, max=1141), HTML(value='')))"
      ]
     },
     "metadata": {},
     "output_type": "display_data"
    },
    {
     "name": "stdout",
     "output_type": "stream",
     "text": [
      "\n"
     ]
    }
   ],
   "source": [
    "detect_video('data/plaza.mp4', 'data/plaza_detected.avi', yolo, 7)"
   ]
  },
  {
   "cell_type": "code",
   "execution_count": 30,
   "metadata": {
    "ExecuteTime": {
     "end_time": "2018-07-08T06:55:02.290694Z",
     "start_time": "2018-07-08T06:51:37.443573Z"
    }
   },
   "outputs": [
    {
     "data": {
      "application/vnd.jupyter.widget-view+json": {
       "model_id": "74b3461a3a4f42899050883845baba34",
       "version_major": 2,
       "version_minor": 0
      },
      "text/html": [
       "<p>Failed to display Jupyter Widget of type <code>HBox</code>.</p>\n",
       "<p>\n",
       "  If you're reading this message in the Jupyter Notebook or JupyterLab Notebook, it may mean\n",
       "  that the widgets JavaScript is still loading. If this message persists, it\n",
       "  likely means that the widgets JavaScript library is either not installed or\n",
       "  not enabled. See the <a href=\"https://ipywidgets.readthedocs.io/en/stable/user_install.html\">Jupyter\n",
       "  Widgets Documentation</a> for setup instructions.\n",
       "</p>\n",
       "<p>\n",
       "  If you're reading this message in another frontend (for example, a static\n",
       "  rendering on GitHub or <a href=\"https://nbviewer.jupyter.org/\">NBViewer</a>),\n",
       "  it may mean that your frontend doesn't currently support widgets.\n",
       "</p>\n"
      ],
      "text/plain": [
       "HBox(children=(IntProgress(value=0, max=3843), HTML(value='')))"
      ]
     },
     "metadata": {},
     "output_type": "display_data"
    },
    {
     "name": "stdout",
     "output_type": "stream",
     "text": [
      "\n"
     ]
    }
   ],
   "source": [
    "detect_video('data/3bbs.mp4', 'data/3bbs_detected.avi', yolo, 7)"
   ]
  },
  {
   "cell_type": "code",
   "execution_count": 19,
   "metadata": {
    "ExecuteTime": {
     "end_time": "2018-07-08T06:25:51.032547Z",
     "start_time": "2018-07-08T06:25:50.964447Z"
    }
   },
   "outputs": [],
   "source": [
    "metdata = io.ffprobe('data/Furious 7 .mp4')"
   ]
  },
  {
   "cell_type": "code",
   "execution_count": 24,
   "metadata": {
    "ExecuteTime": {
     "end_time": "2018-07-08T06:27:52.795634Z",
     "start_time": "2018-07-08T06:27:52.790709Z"
    }
   },
   "outputs": [
    {
     "data": {
      "text/plain": [
       "23"
      ]
     },
     "execution_count": 24,
     "metadata": {},
     "output_type": "execute_result"
    }
   ],
   "source": [
    "int(int(metdata['video']['@avg_frame_rate'].split('/')[0]) / int(metdata['video']['@avg_frame_rate'].split('/')[1]))"
   ]
  },
  {
   "cell_type": "code",
   "execution_count": 14,
   "metadata": {
    "ExecuteTime": {
     "end_time": "2018-07-08T06:05:19.249754Z",
     "start_time": "2018-07-08T06:04:01.517899Z"
    }
   },
   "outputs": [
    {
     "data": {
      "application/vnd.jupyter.widget-view+json": {
       "model_id": "48b93941da124aa4b27fed95c8f88692",
       "version_major": 2,
       "version_minor": 0
      },
      "text/html": [
       "<p>Failed to display Jupyter Widget of type <code>HBox</code>.</p>\n",
       "<p>\n",
       "  If you're reading this message in the Jupyter Notebook or JupyterLab Notebook, it may mean\n",
       "  that the widgets JavaScript is still loading. If this message persists, it\n",
       "  likely means that the widgets JavaScript library is either not installed or\n",
       "  not enabled. See the <a href=\"https://ipywidgets.readthedocs.io/en/stable/user_install.html\">Jupyter\n",
       "  Widgets Documentation</a> for setup instructions.\n",
       "</p>\n",
       "<p>\n",
       "  If you're reading this message in another frontend (for example, a static\n",
       "  rendering on GitHub or <a href=\"https://nbviewer.jupyter.org/\">NBViewer</a>),\n",
       "  it may mean that your frontend doesn't currently support widgets.\n",
       "</p>\n"
      ],
      "text/plain": [
       "HBox(children=(IntProgress(value=0, max=1565), HTML(value='')))"
      ]
     },
     "metadata": {},
     "output_type": "display_data"
    },
    {
     "name": "stdout",
     "output_type": "stream",
     "text": [
      "\n"
     ]
    }
   ],
   "source": [
    "detect_video('data/playground.mp4', 'data/platground_detected1.avi', yolo, 7)"
   ]
  },
  {
   "cell_type": "code",
   "execution_count": 32,
   "metadata": {
    "ExecuteTime": {
     "end_time": "2018-07-08T07:15:07.905171Z",
     "start_time": "2018-07-08T07:15:07.895671Z"
    }
   },
   "outputs": [
    {
     "ename": "NameError",
     "evalue": "name 'img' is not defined",
     "output_type": "error",
     "traceback": [
      "\u001b[0;31m---------------------------------------------------------------------------\u001b[0m",
      "\u001b[0;31mNameError\u001b[0m                                 Traceback (most recent call last)",
      "\u001b[0;32m<ipython-input-32-77a7949ba908>\u001b[0m in \u001b[0;36m<module>\u001b[0;34m()\u001b[0m\n\u001b[0;32m----> 1\u001b[0;31m \u001b[0mimg\u001b[0m\u001b[0;34m\u001b[0m\u001b[0m\n\u001b[0m",
      "\u001b[0;31mNameError\u001b[0m: name 'img' is not defined"
     ]
    }
   ],
   "source": []
  },
  {
   "cell_type": "code",
   "execution_count": 33,
   "metadata": {
    "ExecuteTime": {
     "end_time": "2018-07-08T07:15:23.966304Z",
     "start_time": "2018-07-08T07:15:23.903584Z"
    }
   },
   "outputs": [],
   "source": [
    "detected_img = yolo.detect_on_img(conf,Image.open('data/predictions-yolov2.jpg'),level=7)"
   ]
  },
  {
   "cell_type": "code",
   "execution_count": null,
   "metadata": {},
   "outputs": [],
   "source": [
    "detected_img.save()"
   ]
  },
  {
   "cell_type": "code",
   "execution_count": null,
   "metadata": {},
   "outputs": [],
   "source": []
  },
  {
   "cell_type": "code",
   "execution_count": null,
   "metadata": {},
   "outputs": [],
   "source": []
  },
  {
   "cell_type": "code",
   "execution_count": null,
   "metadata": {
    "ExecuteTime": {
     "end_time": "2018-07-08T05:42:17.426856Z",
     "start_time": "2018-07-08T05:42:13.718Z"
    }
   },
   "outputs": [],
   "source": [
    "yolo.class_2_color"
   ]
  },
  {
   "cell_type": "code",
   "execution_count": null,
   "metadata": {
    "ExecuteTime": {
     "end_time": "2018-07-08T05:42:17.427337Z",
     "start_time": "2018-07-08T05:42:13.722Z"
    }
   },
   "outputs": [],
   "source": [
    "%debug"
   ]
  }
 ],
 "metadata": {
  "hide_input": false,
  "kernelspec": {
   "display_name": "Python 3",
   "language": "python",
   "name": "python3"
  },
  "language_info": {
   "codemirror_mode": {
    "name": "ipython",
    "version": 3
   },
   "file_extension": ".py",
   "mimetype": "text/x-python",
   "name": "python",
   "nbconvert_exporter": "python",
   "pygments_lexer": "ipython3",
   "version": "3.6.4"
  }
 },
 "nbformat": 4,
 "nbformat_minor": 2
}
