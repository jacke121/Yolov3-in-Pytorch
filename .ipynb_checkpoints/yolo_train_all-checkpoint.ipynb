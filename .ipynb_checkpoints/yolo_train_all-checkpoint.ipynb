{
 "cells": [
  {
   "cell_type": "code",
   "execution_count": 1,
   "metadata": {
    "ExecuteTime": {
     "end_time": "2018-06-18T04:55:06.155760Z",
     "start_time": "2018-06-18T04:55:05.980608Z"
    }
   },
   "outputs": [],
   "source": [
    "# for auto-reloading external modules\n",
    "# see http://stackoverflow.com/questions/1907993/autoreload-of-modules-in-ipython\n",
    "%load_ext autoreload\n",
    "%autoreload 2\n",
    "%matplotlib inline\n",
    "import pdb"
   ]
  },
  {
   "cell_type": "code",
   "execution_count": 2,
   "metadata": {
    "ExecuteTime": {
     "end_time": "2018-06-18T04:55:32.436944Z",
     "start_time": "2018-06-18T04:55:06.157074Z"
    }
   },
   "outputs": [
    {
     "name": "stdout",
     "output_type": "stream",
     "text": [
      "loading annotations into memory...\n",
      "Done (t=9.58s)\n",
      "creating index...\n",
      "index created!\n",
      "loading annotations into memory...\n",
      "Done (t=9.86s)\n",
      "creating index...\n",
      "index created!\n",
      "loading annotations into memory...\n",
      "Done (t=0.28s)\n",
      "creating index...\n",
      "index created!\n"
     ]
    }
   ],
   "source": [
    "from easydict import EasyDict as edict\n",
    "from matplotlib import pyplot as plt\n",
    "from torchvision import datasets\n",
    "from torchvision import transforms as trans\n",
    "\n",
    "from pathlib import Path\n",
    "from models.yolo_body_res50 import Yolo_body\n",
    "import numpy as np\n",
    "# np.seterr(all='raise')\n",
    "import torch\n",
    "from torch import nn, optim\n",
    "# import torch.nn.functional as F\n",
    "# from torch.utils.data import DataLoader\n",
    "from utils.vis_utils import *\n",
    "from utils.box_utils import *\n",
    "from utils.dataset_tools import *\n",
    "from utils.utils import *\n",
    "from models.Yolo_head import Yolo_loss\n",
    "from tensorboardX import SummaryWriter\n",
    "from tqdm import tqdm_notebook\n",
    "from imgaug import augmenters as iaa\n",
    "from Yolo_trainer import Yolo\n",
    "\n",
    "conf = edict()\n",
    "\n",
    "conf.coco_anchors = [[10, 13], [16, 30], [33, 23], [30, 61], [62, 45],\n",
    "                     [59, 119], [116, 90], [156, 198], [373, 326]]\n",
    "conf.train_path = Path('/home/f/nvme/coco2017/train2017/')\n",
    "conf.train_anno_path = Path(\n",
    "    '/home/f/nvme/coco2017/annotations/instances_train2017.json')\n",
    "conf.val_path = Path('/home/f/nvme/coco2017/val2017/')\n",
    "conf.val_anno_path = Path(\n",
    "    '/home/f/nvme/coco2017/annotations/instances_val2017.json')\n",
    "conf.log_path = Path('/home/f/learning/yolo/log')\n",
    "conf.model_path = Path('/home/f/learning/yolo/model')\n",
    "conf.save_path = Path('/home/f/learning/yolo/save')\n",
    "\n",
    "conf.device = torch.device(\"cuda:0\" if torch.cuda.is_available() else \"cpu\")\n",
    "\n",
    "train_dataset = datasets.CocoDetection(conf.train_path, conf.train_anno_path)\n",
    "coco_class_2_id, coco_id_2_class = get_coco_class_name_map(\n",
    "    conf.train_anno_path)\n",
    "conf.class_num = len(coco_id_2_class)\n",
    "\n",
    "id_2_correct_id = {}\n",
    "correct_id_2_id = {}\n",
    "id_2_correct_id = dict(zip(coco_id_2_class.keys(), range(80)))\n",
    "correct_id_2_id = dict(zip(range(80), coco_id_2_class.keys()))\n",
    "\n",
    "correct_id_2_class = {}\n",
    "class_2_correct_id = {}\n",
    "for k, v in coco_id_2_class.items():\n",
    "    correct_id_2_class[id_2_correct_id[k]] = v\n",
    "    class_2_correct_id[v] = id_2_correct_id[k]\n",
    "\n",
    "train_dataset.maps = [\n",
    "    id_2_correct_id, correct_id_2_id, correct_id_2_class, class_2_correct_id\n",
    "]\n",
    "\n",
    "id_2_correct_id = {}\n",
    "correct_id_2_id = {}\n",
    "id_2_correct_id = dict(zip(coco_id_2_class.keys(), range(80)))\n",
    "correct_id_2_id = dict(zip(range(80), coco_id_2_class.keys()))\n",
    "\n",
    "correct_id_2_class = {}\n",
    "class_2_correct_id = {}\n",
    "for k, v in coco_id_2_class.items():\n",
    "    correct_id_2_class[id_2_correct_id[k]] = v\n",
    "    class_2_correct_id[v] = id_2_correct_id[k]\n",
    "\n",
    "train_dataset.maps = [\n",
    "    id_2_correct_id, correct_id_2_id, correct_id_2_class, class_2_correct_id\n",
    "]\n",
    "\n",
    "val_dataset = datasets.CocoDetection(conf.val_path, conf.val_anno_path)\n",
    "val_dataset.maps = train_dataset.maps\n",
    "\n",
    "model = Yolo_body(conf.class_num)\n",
    "model.to(conf.device)\n",
    "conf.mean = model.res50_pyramid.model.mean\n",
    "conf.std = model.res50_pyramid.model.std\n",
    "\n",
    "seq = iaa.Sequential([\n",
    "    iaa.SomeOf(\n",
    "        (1, 2),\n",
    "        children=[\n",
    "            iaa.GaussianBlur((0., 2.)),\n",
    "            iaa.AdditiveGaussianNoise(scale=(0, 0.15 * 255)),\n",
    "            iaa.Emboss(alpha=(0, 1.0), strength=(0, 2.0)),\n",
    "            iaa.CoarseSaltAndPepper(p=(0., 0.1), size_percent=0.03)\n",
    "        ],\n",
    "        random_order=True)\n",
    "])"
   ]
  },
  {
   "cell_type": "code",
   "execution_count": 3,
   "metadata": {
    "ExecuteTime": {
     "end_time": "2018-06-18T04:55:32.462407Z",
     "start_time": "2018-06-18T04:55:32.441372Z"
    }
   },
   "outputs": [],
   "source": [
    "conf.running_norm = 0.\n",
    "# conf.gdclip = 3000.\n",
    "conf.gdclip = None\n",
    "conf.coord_scale = 2.\n",
    "conf.noobject_scale = 0.5\n",
    "conf.object_scale = 5\n",
    "conf.class_scale = 5.\n",
    "conf.thresh = 0.5\n",
    "conf.evaluate_iou_threshold = 0.5\n",
    "conf.predict_confidence_threshold = 0.5\n",
    "conf.batch_size = 16\n",
    "conf.input_size = [416, 416]\n",
    "\n",
    "conf.mse_loss = nn.MSELoss(size_average=False)\n",
    "conf.bce_loss = nn.BCEWithLogitsLoss\n",
    "\n",
    "conf.transform_train = trans.Compose([\n",
    "    trans.Resize(conf.input_size),\n",
    "    trans.Lambda(lambda x: Image.fromarray(seq.augment_image(np.array(x)))),\n",
    "    trans.ColorJitter(0.2, 0.2, 0.2, 0.1),\n",
    "    trans.ToTensor(),\n",
    "    trans.Normalize(conf.mean, conf.std)\n",
    "])\n",
    "conf.transform_test = trans.Compose([\n",
    "    trans.Resize(conf.input_size),\n",
    "    trans.ToTensor(),\n",
    "    trans.Normalize(conf.mean, conf.std)\n",
    "])\n",
    "\n",
    "train_loader = Coco_loader(\n",
    "    conf,\n",
    "    train_dataset,\n",
    "    conf.transform_train,\n",
    "    batch_size=conf.batch_size,\n",
    "    shuffle=False)\n",
    "val_loader = Coco_loader(\n",
    "    conf,\n",
    "    val_dataset,\n",
    "    conf.transform_test,\n",
    "    batch_size=conf.batch_size,\n",
    "    hflip=False,\n",
    "    shuffle=False)\n",
    "\n",
    "# conf.board_loss_every = 5\n",
    "# conf.evaluate_every = 5\n",
    "# conf.board_pred_image_every = 5\n",
    "conf.board_loss_every = len(train_loader) // 100\n",
    "conf.evaluate_every = len(train_loader) // 10\n",
    "conf.board_pred_image_every = len(train_loader) // 2\n",
    "conf.save_every = len(train_loader) // 2\n",
    "conf.board_grad_norm = len(train_loader) // 10"
   ]
  },
  {
   "cell_type": "code",
   "execution_count": 4,
   "metadata": {
    "ExecuteTime": {
     "end_time": "2018-06-18T04:55:32.479979Z",
     "start_time": "2018-06-18T04:55:32.463405Z"
    }
   },
   "outputs": [],
   "source": [
    "res50_paras = [*model.res50_pyramid.parameters()]\n",
    "clfr_paras = [*model.classifier1.parameters()] + [*model.classifier2.parameters()] + [*model.classifier3.parameters()]\n",
    "prmd_paras = [*model.pyramid1.parameters()] + [*model.pyramid2.parameters()] + [*model.pyramid3.parameters()]\n",
    "sqz_paras = [*model.squeeze1.parameters()] + [*model.squeeze2.parameters()]\n",
    "yolo_paras = clfr_paras + prmd_paras + sqz_paras + res50_paras[9:]"
   ]
  },
  {
   "cell_type": "code",
   "execution_count": 5,
   "metadata": {
    "ExecuteTime": {
     "end_time": "2018-06-18T04:55:32.497373Z",
     "start_time": "2018-06-18T04:55:32.481091Z"
    }
   },
   "outputs": [],
   "source": [
    "optimizer = optim.SGD(yolo_paras,lr=3e-4,momentum=0.9,weight_decay=1e-4)\n",
    "writer = SummaryWriter(conf.log_path/'ft_all_layers')"
   ]
  },
  {
   "cell_type": "code",
   "execution_count": 6,
   "metadata": {
    "ExecuteTime": {
     "end_time": "2018-06-18T04:55:32.514132Z",
     "start_time": "2018-06-18T04:55:32.498478Z"
    }
   },
   "outputs": [],
   "source": [
    "yolo = Yolo(conf,model,train_loader,val_loader,writer,optimizer)"
   ]
  },
  {
   "cell_type": "code",
   "execution_count": 7,
   "metadata": {
    "ExecuteTime": {
     "end_time": "2018-06-18T04:55:32.795083Z",
     "start_time": "2018-06-18T04:55:32.515208Z"
    }
   },
   "outputs": [],
   "source": [
    "yolo.model.load_state_dict(torch.load(conf.model_path/'2018-06-17-23-40_val_loss:341.3_model_seen:946827_step:59711_ft_6_epoch.pth'))"
   ]
  },
  {
   "cell_type": "code",
   "execution_count": 8,
   "metadata": {
    "ExecuteTime": {
     "end_time": "2018-06-18T04:55:32.811987Z",
     "start_time": "2018-06-18T04:55:32.796314Z"
    }
   },
   "outputs": [],
   "source": [
    "yolo.seen = 946827"
   ]
  },
  {
   "cell_type": "code",
   "execution_count": null,
   "metadata": {
    "ExecuteTime": {
     "start_time": "2018-06-18T04:55:06.083Z"
    }
   },
   "outputs": [
    {
     "name": "stderr",
     "output_type": "stream",
     "text": [
      " 54%|█████▍    | 4003/7392 [1:32:47<1:18:33,  1.39s/it]"
     ]
    }
   ],
   "source": [
    "yolo.train(conf,10,'ft_all_layers')"
   ]
  },
  {
   "cell_type": "code",
   "execution_count": 9,
   "metadata": {
    "ExecuteTime": {
     "end_time": "2018-06-18T03:52:51.415153Z",
     "start_time": "2018-06-18T03:04:14.829358Z"
    },
    "collapsed": true,
    "deletable": false,
    "editable": false,
    "run_control": {
     "frozen": true
    }
   },
   "outputs": [
    {
     "name": "stderr",
     "output_type": "stream",
     "text": [
      " 91%|█████████ | 2235/2464 [48:17<04:56,  1.30s/it]/usr/local/lib/python3.6/dist-packages/numpy/core/_methods.py:35: RuntimeWarning: overflow encountered in reduce\n",
      "  return umr_prod(a, axis, dtype, out, keepdims)\n",
      "/root/Notebooks/YOLOv3/utils/box_utils.py:33: RuntimeWarning: invalid value encountered in add\n",
      "  bbox_a[:,2:] += bbox_a[:,:2]\n",
      "/root/Notebooks/YOLOv3/utils/box_utils.py:37: RuntimeWarning: invalid value encountered in less\n",
      "  area_i = np.prod(br - tl, axis=2) * (tl < br).all(axis=2)\n",
      " 91%|█████████▏| 2249/2464 [48:35<04:38,  1.30s/it]"
     ]
    },
    {
     "name": "stdout",
     "output_type": "stream",
     "text": [
      "exited with best_loss at 510.90269541504586\n"
     ]
    },
    {
     "data": {
      "text/plain": [
       "[<matplotlib.lines.Line2D at 0x7f360f4ab668>]"
      ]
     },
     "execution_count": 9,
     "metadata": {},
     "output_type": "execute_result"
    },
    {
     "data": {
      "image/png": "[encoded data removed]",
      "text/plain": [
       "<Figure size 432x288 with 1 Axes>"
      ]
     },
     "metadata": {},
     "output_type": "display_data"
    }
   ],
   "source": [
    "log_lrs, losses = yolo.find_lr(conf,num=len(yolo.train_loader)//3)\n",
    "\n",
    "plt.plot(log_lrs[10:],losses[10:])"
   ]
  },
  {
   "cell_type": "code",
   "execution_count": 10,
   "metadata": {
    "ExecuteTime": {
     "end_time": "2018-06-17T23:46:22.998574Z",
     "start_time": "2018-06-17T23:40:05.440528Z"
    },
    "deletable": false,
    "editable": false,
    "run_control": {
     "frozen": true
    }
   },
   "outputs": [],
   "source": [
    "yolo.save_state(conf,341.3,'ft_6_epoch')"
   ]
  },
  {
   "cell_type": "code",
   "execution_count": null,
   "metadata": {
    "ExecuteTime": {
     "end_time": "2018-06-14T10:41:38.220564Z",
     "start_time": "2018-06-14T10:41:37.593055Z"
    },
    "deletable": false,
    "editable": false,
    "run_control": {
     "frozen": true
    }
   },
   "outputs": [],
   "source": [
    "yolo.model.load_state_dict(torch.load(conf.model_path/'2018-06-13-18-03_f1:0.00189505697472956_cls_acc:0.000657030223390276_model_seen:58628_ft.pth'))\n",
    "yolo.optimizer.load_state_dict(torch.load(conf.model_path/'2018-06-13-18-03_f1:0.00189505697472956_cls_acc:0.000657030223390276_optimizer_seen:58628_ft.pth'))"
   ]
  },
  {
   "cell_type": "code",
   "execution_count": null,
   "metadata": {
    "ExecuteTime": {
     "end_time": "2018-06-13T15:12:39.442808Z",
     "start_time": "2018-06-13T15:12:39.427283Z"
    },
    "deletable": false,
    "editable": false,
    "run_control": {
     "frozen": true
    }
   },
   "outputs": [],
   "source": [
    "yolo.optimizer.param_groups[0]['lr'] = 1e-2"
   ]
  }
 ],
 "metadata": {
  "celltoolbar": "Raw Cell Format",
  "hide_input": false,
  "kernelspec": {
   "display_name": "Python 3",
   "language": "python",
   "name": "python3"
  },
  "language_info": {
   "codemirror_mode": {
    "name": "ipython",
    "version": 3
   },
   "file_extension": ".py",
   "mimetype": "text/x-python",
   "name": "python",
   "nbconvert_exporter": "python",
   "pygments_lexer": "ipython3",
   "version": "3.6.3"
  },
  "toc": {
   "base_numbering": 1,
   "nav_menu": {},
   "number_sections": true,
   "sideBar": true,
   "skip_h1_title": false,
   "title_cell": "Table of Contents",
   "title_sidebar": "Contents",
   "toc_cell": false,
   "toc_position": {},
   "toc_section_display": true,
   "toc_window_display": false
  },
  "varInspector": {
   "cols": {
    "lenName": 16,
    "lenType": 16,
    "lenVar": 40
   },
   "kernels_config": {
    "python": {
     "delete_cmd_postfix": "",
     "delete_cmd_prefix": "del ",
     "library": "var_list.py",
     "varRefreshCmd": "print(var_dic_list())"
    },
    "r": {
     "delete_cmd_postfix": ") ",
     "delete_cmd_prefix": "rm(",
     "library": "var_list.r",
     "varRefreshCmd": "cat(var_dic_list()) "
    }
   },
   "oldHeight": 434,
   "position": {
    "height": "40px",
    "left": "1241.19px",
    "right": "20px",
    "top": "60px",
    "width": "350px"
   },
   "types_to_exclude": [
    "module",
    "function",
    "builtin_function_or_method",
    "instance",
    "_Feature"
   ],
   "varInspector_section_display": "none",
   "window_display": false
  }
 },
 "nbformat": 4,
 "nbformat_minor": 2
}
