{
 "cells": [
  {
   "cell_type": "code",
   "execution_count": 9,
   "metadata": {
    "ExecuteTime": {
     "end_time": "2018-06-10T08:29:53.812652Z",
     "start_time": "2018-06-10T08:29:53.781181Z"
    }
   },
   "outputs": [
    {
     "name": "stdout",
     "output_type": "stream",
     "text": [
      "The autoreload extension is already loaded. To reload it, use:\n",
      "  %reload_ext autoreload\n"
     ]
    }
   ],
   "source": [
    "# for auto-reloading external modules\n",
    "# see http://stackoverflow.com/questions/1907993/autoreload-of-modules-in-ipython\n",
    "%load_ext autoreload\n",
    "%autoreload 2\n",
    "%matplotlib inline\n",
    "import pdb"
   ]
  },
  {
   "cell_type": "code",
   "execution_count": 2,
   "metadata": {
    "ExecuteTime": {
     "end_time": "2018-06-10T08:29:09.149640Z",
     "start_time": "2018-06-10T08:29:07.900272Z"
    }
   },
   "outputs": [],
   "source": [
    "from easydict import EasyDict as edict\n",
    "\n",
    "from torchvision import datasets\n",
    "from torchvision import transforms as trans\n",
    "\n",
    "from pathlib import Path\n",
    "from models.yolo_body_res50 import Yolo_body\n",
    "import numpy as np\n",
    "import torch\n",
    "from torch import nn,optim\n",
    "# import torch.nn.functional as F\n",
    "# from torch.utils.data import DataLoader\n",
    "from utils.vis_utils import *\n",
    "from utils.box_utils import *\n",
    "from utils.dataset_tools import *\n",
    "from utils.utils import *\n",
    "from models.Yolo_head import Yolo_loss\n",
    "from tensorboardX import SummaryWriter\n",
    "from tqdm import tqdm_notebook\n",
    "from imgaug import augmenters as iaa\n",
    "from Yolo_trainer import Yolo"
   ]
  },
  {
   "cell_type": "code",
   "execution_count": 3,
   "metadata": {
    "ExecuteTime": {
     "end_time": "2018-06-10T08:29:09.726911Z",
     "start_time": "2018-06-10T08:29:09.151167Z"
    }
   },
   "outputs": [],
   "source": [
    "conf = edict()\n",
    "\n",
    "conf.coco_anchors = [[10, 13], [16, 30], [33, 23], [30, 61], [62, 45],\n",
    "                     [59, 119], [116, 90], [156, 198], [373, 326]]\n",
    "conf.train_path = Path('/home/f/nvme/coco2017/train2017/')\n",
    "conf.train_anno_path = Path(\n",
    "    '/home/f/nvme/coco2017/annotations/instances_train2017.json')\n",
    "conf.val_path = Path('/home/f/nvme/coco2017/val2017/')\n",
    "conf.val_anno_path = Path(\n",
    "    '/home/f/nvme/coco2017/annotations/instances_val2017.json')\n",
    "conf.log_path = Path('/home/f/learning/yolo/log')\n",
    "conf.model_path = Path('/home/f/learning/yolo/model')\n",
    "conf.save_path = Path('/home/f/learning/yolo/save')\n",
    "\n",
    "conf.device = torch.device(\"cuda:0\" if torch.cuda.is_available() else \"cpu\")"
   ]
  },
  {
   "cell_type": "code",
   "execution_count": 4,
   "metadata": {
    "ExecuteTime": {
     "end_time": "2018-06-10T08:29:31.483523Z",
     "start_time": "2018-06-10T08:29:09.728529Z"
    },
    "code_folding": []
   },
   "outputs": [
    {
     "name": "stdout",
     "output_type": "stream",
     "text": [
      "loading annotations into memory...\n",
      "Done (t=9.64s)\n",
      "creating index...\n",
      "index created!\n",
      "loading annotations into memory...\n",
      "Done (t=9.82s)\n",
      "creating index...\n",
      "index created!\n",
      "loading annotations into memory...\n",
      "Done (t=0.27s)\n",
      "creating index...\n",
      "index created!\n"
     ]
    }
   ],
   "source": [
    "train_dataset = datasets.CocoDetection(conf.train_path, conf.train_anno_path)\n",
    "coco_class_2_id, coco_id_2_class = get_coco_class_name_map(\n",
    "    conf.train_anno_path)\n",
    "conf.class_num = len(coco_id_2_class)\n",
    "\n",
    "id_2_correct_id = {}\n",
    "correct_id_2_id = {}\n",
    "id_2_correct_id = dict(zip(coco_id_2_class.keys(), range(80)))\n",
    "correct_id_2_id = dict(zip(range(80), coco_id_2_class.keys()))\n",
    "\n",
    "correct_id_2_class = {}\n",
    "class_2_correct_id = {}\n",
    "for k, v in coco_id_2_class.items():\n",
    "    correct_id_2_class[id_2_correct_id[k]] = v\n",
    "    class_2_correct_id[v] = id_2_correct_id[k]\n",
    "\n",
    "train_dataset.maps = [\n",
    "    id_2_correct_id, correct_id_2_id, correct_id_2_class, class_2_correct_id\n",
    "]\n",
    "\n",
    "id_2_correct_id = {}\n",
    "correct_id_2_id = {}\n",
    "id_2_correct_id = dict(zip(coco_id_2_class.keys(), range(80)))\n",
    "correct_id_2_id = dict(zip(range(80), coco_id_2_class.keys()))\n",
    "\n",
    "correct_id_2_class = {}\n",
    "class_2_correct_id = {}\n",
    "for k, v in coco_id_2_class.items():\n",
    "    correct_id_2_class[id_2_correct_id[k]] = v\n",
    "    class_2_correct_id[v] = id_2_correct_id[k]\n",
    "\n",
    "train_dataset.maps = [id_2_correct_id,correct_id_2_id,correct_id_2_class,class_2_correct_id]\n",
    "\n",
    "val_dataset = datasets.CocoDetection(conf.val_path, conf.val_anno_path)\n",
    "val_dataset.maps = train_dataset.maps"
   ]
  },
  {
   "cell_type": "code",
   "execution_count": 5,
   "metadata": {
    "ExecuteTime": {
     "end_time": "2018-06-10T08:29:34.381125Z",
     "start_time": "2018-06-10T08:29:31.484931Z"
    }
   },
   "outputs": [],
   "source": [
    "model = Yolo_body(conf.class_num)\n",
    "model.to(conf.device)\n",
    "conf.mean = model.res50_pyramid.model.mean\n",
    "conf.std = model.res50_pyramid.model.std\n",
    "\n",
    "seq = iaa.Sequential([\n",
    "    iaa.SomeOf(\n",
    "        (1, 2),\n",
    "        children=[\n",
    "            iaa.GaussianBlur((0., 2.)),\n",
    "            iaa.AdditiveGaussianNoise(scale=(0, 0.15 * 255)),\n",
    "            iaa.Emboss(alpha=(0, 1.0), strength=(0, 2.0)),\n",
    "            iaa.CoarseSaltAndPepper(p=(0., 0.1), size_percent=0.03)\n",
    "        ],\n",
    "        random_order=True)\n",
    "])\n",
    "\n",
    "conf.batch_size = 16\n",
    "conf.input_size = [416, 416]\n",
    "conf.transform_train = trans.Compose([\n",
    "    trans.Resize(conf.input_size),\n",
    "    trans.Lambda(lambda x: Image.fromarray(seq.augment_image(np.array(x)))),\n",
    "    trans.ColorJitter(0.2, 0.2, 0.2, 0.1),\n",
    "    trans.ToTensor(),\n",
    "    trans.Normalize(conf.mean, conf.std)\n",
    "])\n",
    "conf.transform_test = trans.Compose([\n",
    "    trans.Resize(conf.input_size),\n",
    "    trans.ToTensor(),\n",
    "    trans.Normalize(conf.mean, conf.std)\n",
    "])\n",
    "\n",
    "conf.mse_loss = nn.MSELoss(size_average=False)\n",
    "conf.bce_loss = nn.BCEWithLogitsLoss\n",
    "conf.evaluate_iou_threshold = 0.5\n",
    "conf.predict_confidence_threshold = 0.5\n",
    "\n",
    "train_loader = Coco_loader(\n",
    "    conf, train_dataset, conf.transform_train, batch_size=conf.batch_size)\n",
    "val_loader = Coco_loader(\n",
    "    conf,\n",
    "    val_dataset,\n",
    "    conf.transform_test,\n",
    "    batch_size=conf.batch_size,\n",
    "    hflip=False,\n",
    "    shuffle=False)\n",
    "\n",
    "# conf.board_loss_every = 5\n",
    "# conf.evaluate_every = 5\n",
    "# conf.board_pred_image_every = 5\n",
    "conf.board_loss_every = len(train_loader) // 100\n",
    "conf.evaluate_every = len(train_loader) // 10\n",
    "conf.board_pred_image_every = len(train_loader) // 5"
   ]
  },
  {
   "cell_type": "code",
   "execution_count": 6,
   "metadata": {
    "ExecuteTime": {
     "end_time": "2018-06-10T08:29:34.398591Z",
     "start_time": "2018-06-10T08:29:34.382327Z"
    }
   },
   "outputs": [],
   "source": [
    "writer = SummaryWriter(conf.log_path/'finetune_first')"
   ]
  },
  {
   "cell_type": "code",
   "execution_count": 7,
   "metadata": {
    "ExecuteTime": {
     "end_time": "2018-06-10T08:29:34.415681Z",
     "start_time": "2018-06-10T08:29:34.399673Z"
    }
   },
   "outputs": [],
   "source": [
    "paras = [*model.parameters()][9:]\n",
    "\n",
    "optimizer = optim.SGD(paras,lr=3e-5,momentum=0.9,weight_decay=1e-4)"
   ]
  },
  {
   "cell_type": "code",
   "execution_count": 8,
   "metadata": {
    "ExecuteTime": {
     "end_time": "2018-06-10T08:29:34.432023Z",
     "start_time": "2018-06-10T08:29:34.416726Z"
    }
   },
   "outputs": [],
   "source": [
    "yolo = Yolo(conf,model,train_loader,val_loader,writer,optimizer)"
   ]
  },
  {
   "cell_type": "code",
   "execution_count": 10,
   "metadata": {
    "ExecuteTime": {
     "end_time": "2018-06-10T10:09:35.190852Z",
     "start_time": "2018-06-10T08:30:34.049889Z"
    }
   },
   "outputs": [
    {
     "name": "stderr",
     "output_type": "stream",
     "text": [
      " 62%|██████▏   | 4577/7392 [1:38:48<1:00:46,  1.30s/it]"
     ]
    },
    {
     "data": {
      "image/png": "[encoded data removed]",
      "text/plain": [
       "<Figure size 432x288 with 1 Axes>"
      ]
     },
     "metadata": {},
     "output_type": "display_data"
    }
   ],
   "source": [
    "log_lrs, losses = yolo.find_lr(conf,1e-9,1)"
   ]
  },
  {
   "cell_type": "code",
   "execution_count": null,
   "metadata": {
    "ExecuteTime": {
     "end_time": "2018-06-10T08:26:19.967600Z",
     "start_time": "2018-06-10T08:25:10.835489Z"
    },
    "scrolled": false
   },
   "outputs": [],
   "source": [
    "# yolo.train(conf,1,'finetuning')"
   ]
  },
  {
   "cell_type": "code",
   "execution_count": null,
   "metadata": {
    "ExecuteTime": {
     "end_time": "2018-06-10T08:26:19.968722Z",
     "start_time": "2018-06-10T08:24:45.099Z"
    },
    "scrolled": true
   },
   "outputs": [],
   "source": [
    "%debug"
   ]
  }
 ],
 "metadata": {
  "celltoolbar": "Raw Cell Format",
  "hide_input": false,
  "kernelspec": {
   "display_name": "Python 3",
   "language": "python",
   "name": "python3"
  },
  "language_info": {
   "codemirror_mode": {
    "name": "ipython",
    "version": 3
   },
   "file_extension": ".py",
   "mimetype": "text/x-python",
   "name": "python",
   "nbconvert_exporter": "python",
   "pygments_lexer": "ipython3",
   "version": "3.6.3"
  },
  "toc": {
   "base_numbering": 1,
   "nav_menu": {},
   "number_sections": true,
   "sideBar": true,
   "skip_h1_title": false,
   "title_cell": "Table of Contents",
   "title_sidebar": "Contents",
   "toc_cell": false,
   "toc_position": {},
   "toc_section_display": true,
   "toc_window_display": false
  },
  "varInspector": {
   "cols": {
    "lenName": 16,
    "lenType": 16,
    "lenVar": 40
   },
   "kernels_config": {
    "python": {
     "delete_cmd_postfix": "",
     "delete_cmd_prefix": "del ",
     "library": "var_list.py",
     "varRefreshCmd": "print(var_dic_list())"
    },
    "r": {
     "delete_cmd_postfix": ") ",
     "delete_cmd_prefix": "rm(",
     "library": "var_list.r",
     "varRefreshCmd": "cat(var_dic_list()) "
    }
   },
   "oldHeight": 122.4,
   "position": {
    "height": "456px",
    "left": "1075.2px",
    "right": "20px",
    "top": "119px",
    "width": "350px"
   },
   "types_to_exclude": [
    "module",
    "function",
    "builtin_function_or_method",
    "instance",
    "_Feature"
   ],
   "varInspector_section_display": "block",
   "window_display": false
  }
 },
 "nbformat": 4,
 "nbformat_minor": 2
}
