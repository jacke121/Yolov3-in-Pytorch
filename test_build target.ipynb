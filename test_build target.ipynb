{
 "cells": [
  {
   "cell_type": "code",
   "execution_count": 1,
   "metadata": {
    "ExecuteTime": {
     "end_time": "2018-06-30T03:59:35.518247Z",
     "start_time": "2018-06-30T03:59:35.353317Z"
    }
   },
   "outputs": [],
   "source": [
    "# see http://stackoverflow.com/questions/1907993/autoreload-of-modules-in-ipython\n",
    "%load_ext autoreload\n",
    "%autoreload 2\n",
    "%matplotlib inline\n",
    "import pdb"
   ]
  },
  {
   "cell_type": "code",
   "execution_count": 2,
   "metadata": {
    "ExecuteTime": {
     "end_time": "2018-06-30T03:59:36.611839Z",
     "start_time": "2018-06-30T03:59:35.519668Z"
    }
   },
   "outputs": [],
   "source": [
    "from easydict import EasyDict as edict\n",
    "from matplotlib import pyplot as plt\n",
    "from torchvision import transforms as trans\n",
    "from PIL import Image\n",
    "from pathlib import Path\n",
    "from models.Yolo_model import Yolo_model, build_targets\n",
    "import numpy as np\n",
    "# np.seterr(all='raise')\n",
    "import torch\n",
    "from torch import nn, optim\n",
    "# import torch.nn.functional as F\n",
    "from utils.vis_utils import *\n",
    "from utils.box_utils import *\n",
    "from utils.dataset_tools import *\n",
    "from utils.utils import *\n",
    "from models.Yolo_head import Yolo_loss\n",
    "from tensorboardX import SummaryWriter\n",
    "from tqdm import tqdm_notebook as tqdm\n",
    "from imgaug import augmenters as iaa\n",
    "from Yolo_trainer_Notebook import Yolo\n",
    "from torch.utils.data import DataLoader"
   ]
  },
  {
   "cell_type": "code",
   "execution_count": 3,
   "metadata": {
    "ExecuteTime": {
     "end_time": "2018-06-30T03:59:48.181416Z",
     "start_time": "2018-06-30T03:59:36.613266Z"
    }
   },
   "outputs": [
    {
     "name": "stdout",
     "output_type": "stream",
     "text": [
      "loading annotations into memory...\n",
      "Done (t=9.43s)\n",
      "creating index...\n",
      "index created!\n"
     ]
    }
   ],
   "source": [
    "conf = edict()\n",
    "\n",
    "conf.coco_anchors = [[10, 13], [16, 30], [33, 23], [30, 61], [62, 45],\n",
    "                     [59, 119], [116, 90], [156, 198], [373, 326]]\n",
    "conf.train_path = Path('/home/f/nvme/coco2017/train2017/')\n",
    "conf.train_anno_path = Path(\n",
    "    '/home/f/nvme/coco2017/annotations/instances_train2017.json')\n",
    "conf.val_path = Path('/home/f/nvme/coco2017/val2017/')\n",
    "conf.val_anno_path = Path(\n",
    "    '/home/f/nvme/coco2017/annotations/instances_val2017.json')\n",
    "conf.log_path = Path('/home/f/learning/yolo/log')\n",
    "conf.model_path = Path('/home/f/learning/yolo/model')\n",
    "conf.save_path = Path('/home/f/learning/yolo/save')\n",
    "conf.ids_path = 'data/ids.npy'\n",
    "\n",
    "conf.device = torch.device(\"cuda:0\" if torch.cuda.is_available() else \"cpu\")\n",
    "\n",
    "maps,correct_id_2_class = get_id_maps(conf)"
   ]
  },
  {
   "cell_type": "code",
   "execution_count": 4,
   "metadata": {
    "ExecuteTime": {
     "end_time": "2018-06-30T03:59:51.101173Z",
     "start_time": "2018-06-30T03:59:48.183092Z"
    }
   },
   "outputs": [],
   "source": [
    "conf.num_anchors = 3\n",
    "conf.batch_size = 16\n",
    "conf.input_size = 416\n",
    "conf.scales = [32,16,8]\n",
    "\n",
    "conf.running_norm = 0.\n",
    "# conf.gdclip = 3000.\n",
    "conf.num_workers = 8\n",
    "conf.batch_size = 16\n",
    "conf.gdclip = None\n",
    "conf.coord_scale = 2.\n",
    "conf.noobject_scale = 0.5\n",
    "conf.object_scale = 5\n",
    "conf.class_scale = 5.\n",
    "conf.ignore_thresh = 0.5\n",
    "conf.evaluate_iou_threshold = 0.5\n",
    "conf.predict_confidence_threshold = 0.5\n",
    "\n",
    "model = Yolo_model(conf)\n",
    "model.to(conf.device)\n",
    "conf.mean = model.res50_pyramid.model.mean\n",
    "conf.std = model.res50_pyramid.model.std\n",
    "\n",
    "conf.mse_loss = nn.MSELoss(size_average=False)\n",
    "conf.bce_loss = nn.BCEWithLogitsLoss\n",
    "\n",
    "conf.board_loss_every = 5\n",
    "conf.evaluate_every = 5\n",
    "conf.board_pred_image_every = 5\n",
    "# conf.board_loss_every = len(train_loader) // 100\n",
    "# conf.evaluate_every = len(train_loader) // 10\n",
    "# conf.board_pred_image_every = len(train_loader) // 2\n",
    "# conf.save_every = len(train_loader) // 2\n",
    "# conf.board_grad_norm = len(train_loader) // 10"
   ]
  },
  {
   "cell_type": "code",
   "execution_count": 5,
   "metadata": {
    "ExecuteTime": {
     "end_time": "2018-06-30T04:00:01.685533Z",
     "start_time": "2018-06-30T03:59:51.102448Z"
    }
   },
   "outputs": [
    {
     "name": "stdout",
     "output_type": "stream",
     "text": [
      "loading annotations into memory...\n",
      "Done (t=8.99s)\n",
      "creating index...\n",
      "index created!\n",
      "loading annotations into memory...\n",
      "Done (t=0.29s)\n",
      "creating index...\n",
      "index created!\n"
     ]
    }
   ],
   "source": [
    "train_ds = Coco_dataset(conf,conf.train_path,conf.train_anno_path,maps)\n",
    "val_ds = Coco_dataset(conf,conf.val_path,conf.val_anno_path,maps)\n",
    "train_loader = DataLoader(train_ds,batch_size=conf.batch_size,shuffle=True,collate_fn=coco_collate_fn,pin_memory=True,num_workers=conf.num_workers)\n",
    "val_loader = DataLoader(val_ds,batch_size=conf.batch_size,shuffle=False,collate_fn=coco_collate_fn,pin_memory=True,num_workers=conf.num_workers)"
   ]
  },
  {
   "cell_type": "code",
   "execution_count": 6,
   "metadata": {
    "ExecuteTime": {
     "end_time": "2018-06-30T04:00:01.702560Z",
     "start_time": "2018-06-30T04:00:01.686846Z"
    }
   },
   "outputs": [],
   "source": [
    "yolo = Yolo(conf,model,train_loader,val_loader,None,None)"
   ]
  },
  {
   "cell_type": "code",
   "execution_count": 7,
   "metadata": {
    "ExecuteTime": {
     "end_time": "2018-06-30T04:00:06.389728Z",
     "start_time": "2018-06-30T04:00:01.703679Z"
    }
   },
   "outputs": [],
   "source": [
    "imgs,bboxes_group,labels_group = next(iter(train_loader))"
   ]
  },
  {
   "cell_type": "code",
   "execution_count": 8,
   "metadata": {
    "ExecuteTime": {
     "end_time": "2018-06-30T04:00:06.430619Z",
     "start_time": "2018-06-30T04:00:06.391846Z"
    }
   },
   "outputs": [],
   "source": [
    "imgs = imgs.to(conf.device)\n",
    "for i,label in enumerate(labels_group):\n",
    "    labels_group[i] = label.to(conf.device)\n",
    "for i,bboxes in enumerate(bboxes_group):\n",
    "    bboxes_group[i] = bboxes.to(conf.device)"
   ]
  },
  {
   "cell_type": "code",
   "execution_count": 9,
   "metadata": {
    "ExecuteTime": {
     "end_time": "2018-06-30T04:00:06.611111Z",
     "start_time": "2018-06-30T04:00:06.436638Z"
    }
   },
   "outputs": [],
   "source": [
    "preds = yolo.model(imgs)"
   ]
  },
  {
   "cell_type": "code",
   "execution_count": 10,
   "metadata": {
    "ExecuteTime": {
     "end_time": "2018-06-30T04:00:06.652687Z",
     "start_time": "2018-06-30T04:00:06.616188Z"
    }
   },
   "outputs": [
    {
     "data": {
      "text/plain": [
       "(torch.Size([16, 3, 13, 13, 85]),\n",
       " torch.Size([16, 3, 26, 26, 85]),\n",
       " torch.Size([16, 3, 52, 52, 85]))"
      ]
     },
     "execution_count": 10,
     "metadata": {},
     "output_type": "execute_result"
    }
   ],
   "source": [
    "preds.loss_feats[0].shape,preds.loss_feats[1].shape,preds.loss_feats[2].shape"
   ]
  },
  {
   "cell_type": "code",
   "execution_count": 11,
   "metadata": {
    "ExecuteTime": {
     "end_time": "2018-06-30T04:00:06.748792Z",
     "start_time": "2018-06-30T04:00:06.679214Z"
    }
   },
   "outputs": [
    {
     "data": {
      "text/plain": [
       "(torch.Size([16, 3, 13, 13, 4]),\n",
       " torch.Size([16, 3, 26, 26, 4]),\n",
       " torch.Size([16, 3, 52, 52, 4]))"
      ]
     },
     "execution_count": 11,
     "metadata": {},
     "output_type": "execute_result"
    }
   ],
   "source": [
    "preds.pred_bboxes_group[0].shape,preds.pred_bboxes_group[1].shape,preds.pred_bboxes_group[2].shape"
   ]
  },
  {
   "cell_type": "code",
   "execution_count": 12,
   "metadata": {
    "ExecuteTime": {
     "end_time": "2018-06-30T04:00:06.843639Z",
     "start_time": "2018-06-30T04:00:06.764211Z"
    }
   },
   "outputs": [
    {
     "data": {
      "text/plain": [
       "(tensor([[ 116.,   90.],\n",
       "         [ 156.,  198.],\n",
       "         [ 373.,  326.]], device='cuda:0'), tensor([[  30.,   61.],\n",
       "         [  62.,   45.],\n",
       "         [  59.,  119.]], device='cuda:0'), tensor([[ 10.,  13.],\n",
       "         [ 16.,  30.],\n",
       "         [ 33.,  23.]], device='cuda:0'))"
      ]
     },
     "execution_count": 12,
     "metadata": {},
     "output_type": "execute_result"
    }
   ],
   "source": [
    "yolo.model.head.anchors_group[0],yolo.model.head.anchors_group[1],yolo.model.head.anchors_group[2]"
   ]
  },
  {
   "cell_type": "code",
   "execution_count": 13,
   "metadata": {
    "ExecuteTime": {
     "end_time": "2018-06-30T04:00:06.919138Z",
     "start_time": "2018-06-30T04:00:06.880255Z"
    }
   },
   "outputs": [],
   "source": [
    "warm_up = False"
   ]
  },
  {
   "cell_type": "code",
   "execution_count": 14,
   "metadata": {
    "ExecuteTime": {
     "end_time": "2018-06-30T04:00:06.956273Z",
     "start_time": "2018-06-30T04:00:06.925037Z"
    }
   },
   "outputs": [],
   "source": [
    "l = 0"
   ]
  },
  {
   "cell_type": "code",
   "execution_count": 15,
   "metadata": {
    "ExecuteTime": {
     "end_time": "2018-06-30T04:00:06.994162Z",
     "start_time": "2018-06-30T04:00:06.962500Z"
    }
   },
   "outputs": [],
   "source": [
    "b = 6"
   ]
  },
  {
   "cell_type": "code",
   "execution_count": 23,
   "metadata": {
    "ExecuteTime": {
     "end_time": "2018-06-30T04:01:51.564576Z",
     "start_time": "2018-06-30T04:01:51.543544Z"
    }
   },
   "outputs": [],
   "source": [
    "pred_bboxes_group = preds.pred_bboxes_group\n",
    "anchors_group = yolo.model.head.anchors_group"
   ]
  },
  {
   "cell_type": "code",
   "execution_count": null,
   "metadata": {
    "ExecuteTime": {
     "end_time": "2018-06-30T03:42:13.515605Z",
     "start_time": "2018-06-30T03:42:13.491632Z"
    },
    "deletable": false,
    "editable": false,
    "run_control": {
     "frozen": true
    }
   },
   "outputs": [],
   "source": [
    "nA = len(pred_bboxes_group)\n",
    "nB = len(bboxes_group)\n",
    "anchors_concat = torch.cat(anchors_group).unsqueeze(0)\n",
    "anchor_maxes = anchors_concat / 2.\n",
    "anchor_mins = -anchor_maxes\n",
    "targets = [torch.zeros([nB,nA,nF,nF,5],device=conf.device)\\\n",
    "               for nF in [bboxes.shape[2] for bboxes in pred_bboxes_group]]\n",
    "gt_mask = [torch.zeros([nB,nA,nF,nF],device=conf.device)\\\n",
    "               for nF in [bboxes.shape[2] for bboxes in pred_bboxes_group]]\n",
    "coord_mask = [torch.zeros([nB,nA,nF,nF],device=conf.device)\\\n",
    "               for nF in [bboxes.shape[2] for bboxes in pred_bboxes_group]]\n",
    "conf_weight = [conf.noobject_scale * torch.ones([nB,nA,nF,nF],device=conf.device)\\\n",
    "               for nF in [bboxes.shape[2] for bboxes in pred_bboxes_group]]\n",
    "    \n",
    "if warm_up:\n",
    "        targets[l][...,:2] = 0.5\n",
    "        targets[l][...,2:4] = 0.\n",
    "        coord_mask[l] = 1\n",
    "\n",
    "bboxes_xy = bboxes_group[b][:,:2]\n",
    "bboxes_wh = bboxes_group[b][:,2:]\n",
    "iou = cal_iou_wh(bboxes_group[b][:,2:],anchors_concat)\n",
    "best_anchor = torch.argmax(iou, dim=-1)"
   ]
  },
  {
   "cell_type": "code",
   "execution_count": null,
   "metadata": {
    "ExecuteTime": {
     "end_time": "2018-06-30T03:42:16.177834Z",
     "start_time": "2018-06-30T03:42:16.155502Z"
    },
    "deletable": false,
    "editable": false,
    "run_control": {
     "frozen": true
    }
   },
   "outputs": [],
   "source": [
    "cur_pred_boxes = pred_bboxes_group[l][b].view(-1,4)\n",
    "gt_boxes = bboxes_group[b]\n",
    "ious = cal_ious(xcycwh_2_xywh(cur_pred_boxes),xcycwh_2_xywh(gt_boxes))\n",
    "max_ious,_ = torch.max(ious,1)\n",
    "idx = max_ious > conf.ignore_thresh\n",
    "idx = idx.view(pred_bboxes_group[l][b].shape[:-1])\n",
    "conf_weight[l][b][idx] = 0."
   ]
  },
  {
   "cell_type": "code",
   "execution_count": 90,
   "metadata": {
    "ExecuteTime": {
     "end_time": "2018-06-30T04:38:48.561557Z",
     "start_time": "2018-06-30T04:38:48.449456Z"
    }
   },
   "outputs": [],
   "source": [
    "targets, gt_mask, conf_weight, coord_mask = build_targets(\n",
    "    conf,\n",
    "    preds.pred_bboxes_group,\n",
    "    bboxes_group,\n",
    "    labels_group,\n",
    "    yolo.model.head.anchors_group,\n",
    "    warm_up=True,\n",
    "    debug=False)"
   ]
  },
  {
   "cell_type": "code",
   "execution_count": 91,
   "metadata": {
    "ExecuteTime": {
     "end_time": "2018-06-30T04:38:49.512925Z",
     "start_time": "2018-06-30T04:38:49.490800Z"
    }
   },
   "outputs": [
    {
     "data": {
      "text/plain": [
       "[tensor(8089., device='cuda:0'),\n",
       " tensor(32417., device='cuda:0'),\n",
       " tensor(29., device='cuda:0')]"
      ]
     },
     "execution_count": 91,
     "metadata": {},
     "output_type": "execute_result"
    }
   ],
   "source": [
    "[compare_tensors(coord_mask[i], gt_mask[i]) for i in range(3)]"
   ]
  },
  {
   "cell_type": "code",
   "execution_count": 100,
   "metadata": {
    "ExecuteTime": {
     "end_time": "2018-06-30T04:49:04.626719Z",
     "start_time": "2018-06-30T04:49:04.603869Z"
    }
   },
   "outputs": [
    {
     "data": {
      "text/plain": [
       "(array([1, 2]), array([9, 7]), array([9, 7]))"
      ]
     },
     "execution_count": 100,
     "metadata": {},
     "output_type": "execute_result"
    }
   ],
   "source": [
    "np.where(targets[0][b][:,:,:,2].cpu().numpy() != 0.)"
   ]
  },
  {
   "cell_type": "code",
   "execution_count": 75,
   "metadata": {
    "ExecuteTime": {
     "end_time": "2018-06-30T04:13:38.819699Z",
     "start_time": "2018-06-30T04:13:38.797420Z"
    }
   },
   "outputs": [
    {
     "data": {
      "text/plain": [
       "tensor([[  3.6250,   2.8125],\n",
       "        [  4.8750,   6.1875],\n",
       "        [ 11.6562,  10.1875]], device='cuda:0')"
      ]
     },
     "execution_count": 75,
     "metadata": {},
     "output_type": "execute_result"
    }
   ],
   "source": [
    "anchors_group[0]/32"
   ]
  },
  {
   "cell_type": "code",
   "execution_count": 68,
   "metadata": {
    "ExecuteTime": {
     "end_time": "2018-06-30T04:10:08.065087Z",
     "start_time": "2018-06-30T04:10:08.043920Z"
    }
   },
   "outputs": [
    {
     "data": {
      "text/plain": [
       "tensor([[  9.6875,   9.0469,   6.5625,   7.8438],\n",
       "        [  7.1719,   7.2656,  11.5938,  11.4062]], device='cuda:0')"
      ]
     },
     "execution_count": 68,
     "metadata": {},
     "output_type": "execute_result"
    }
   ],
   "source": [
    "bboxes_group[b]/32"
   ]
  },
  {
   "cell_type": "code",
   "execution_count": 71,
   "metadata": {
    "ExecuteTime": {
     "end_time": "2018-06-30T04:10:49.413991Z",
     "start_time": "2018-06-30T04:10:49.391269Z"
    }
   },
   "outputs": [
    {
     "data": {
      "text/plain": [
       "(array([1, 2]), array([9, 7]), array([9, 7]))"
      ]
     },
     "execution_count": 71,
     "metadata": {},
     "output_type": "execute_result"
    }
   ],
   "source": [
    "np.where(gt_mask[l][b].cpu().numpy() == 1)"
   ]
  },
  {
   "cell_type": "code",
   "execution_count": 62,
   "metadata": {
    "ExecuteTime": {
     "end_time": "2018-06-30T04:08:37.130418Z",
     "start_time": "2018-06-30T04:08:37.107725Z"
    }
   },
   "outputs": [
    {
     "data": {
      "text/plain": [
       "(array([1, 2]), array([9, 7]), array([9, 7]))"
      ]
     },
     "execution_count": 62,
     "metadata": {},
     "output_type": "execute_result"
    }
   ],
   "source": [
    "np.where(conf_weight[l][b].cpu().numpy() == 5.)"
   ]
  },
  {
   "cell_type": "code",
   "execution_count": 73,
   "metadata": {
    "ExecuteTime": {
     "end_time": "2018-06-30T04:13:13.877672Z",
     "start_time": "2018-06-30T04:13:13.855948Z"
    }
   },
   "outputs": [
    {
     "data": {
      "text/plain": [
       "tensor(5., device='cuda:0')"
      ]
     },
     "execution_count": 73,
     "metadata": {},
     "output_type": "execute_result"
    }
   ],
   "source": [
    "conf_weight[l][b][1, 9, 9]"
   ]
  },
  {
   "cell_type": "code",
   "execution_count": 36,
   "metadata": {
    "ExecuteTime": {
     "end_time": "2018-06-30T04:05:21.434312Z",
     "start_time": "2018-06-30T04:05:21.412101Z"
    }
   },
   "outputs": [
    {
     "data": {
      "text/plain": [
       "tensor([ 145.8432,  214.1226,  351.7752,  354.8152], device='cuda:0')"
      ]
     },
     "execution_count": 36,
     "metadata": {},
     "output_type": "execute_result"
    }
   ],
   "source": [
    "pred_bboxes_group[l][b][2, 6, 4]"
   ]
  },
  {
   "cell_type": "code",
   "execution_count": 30,
   "metadata": {
    "ExecuteTime": {
     "end_time": "2018-06-30T04:03:09.557519Z",
     "start_time": "2018-06-30T04:03:09.534794Z"
    }
   },
   "outputs": [
    {
     "data": {
      "text/plain": [
       "tensor([[ 310.0000,  289.5000,  210.0000,  251.0000],\n",
       "        [ 229.5000,  232.5000,  371.0000,  365.0000]], device='cuda:0')"
      ]
     },
     "execution_count": 30,
     "metadata": {},
     "output_type": "execute_result"
    }
   ],
   "source": [
    "bboxes_group[b]"
   ]
  },
  {
   "cell_type": "code",
   "execution_count": 55,
   "metadata": {
    "ExecuteTime": {
     "end_time": "2018-06-30T04:06:36.986421Z",
     "start_time": "2018-06-30T04:06:36.965151Z"
    }
   },
   "outputs": [],
   "source": [
    "l = 0"
   ]
  },
  {
   "cell_type": "code",
   "execution_count": 59,
   "metadata": {
    "ExecuteTime": {
     "end_time": "2018-06-30T04:07:44.921787Z",
     "start_time": "2018-06-30T04:07:44.897937Z"
    }
   },
   "outputs": [
    {
     "data": {
      "text/plain": [
       "[[0.35337454080581665, 0.7120802998542786],\n",
       " [-0.0, 0.06484775245189667],\n",
       " [0.0, 0.005149302538484335]]"
      ]
     },
     "execution_count": 59,
     "metadata": {},
     "output_type": "execute_result"
    }
   ],
   "source": [
    "[[\n",
    "    cal_ious(\n",
    "        xcycwh_2_xywh(pred_bboxes_group[l][b][2, 6, 8].unsqueeze(0)),\n",
    "        xcycwh_2_xywh(bboxes_group[b][i].unsqueeze(0))).item()\n",
    "    for i in range(len(bboxes_group[b]))\n",
    "] for l in [0,1,2]]"
   ]
  },
  {
   "cell_type": "code",
   "execution_count": 60,
   "metadata": {
    "ExecuteTime": {
     "end_time": "2018-06-30T04:07:48.242696Z",
     "start_time": "2018-06-30T04:07:48.219703Z"
    },
    "scrolled": false
   },
   "outputs": [
    {
     "data": {
      "text/plain": [
       "[[0.3533744513988495, 0.7120801210403442],\n",
       " [-0.0, 0.06484775245189667],\n",
       " [0.0, 0.005149302538484335]]"
      ]
     },
     "execution_count": 60,
     "metadata": {},
     "output_type": "execute_result"
    }
   ],
   "source": [
    "[[\n",
    "    cal_ious_xcycwh(\n",
    "        pred_bboxes_group[l][b][2, 6, 8].unsqueeze(0),\n",
    "        bboxes_group[b][i].unsqueeze(0)).item()\n",
    "    for i in range(len(bboxes_group[b]))\n",
    "] for l in [0,1,2]]"
   ]
  },
  {
   "cell_type": "code",
   "execution_count": null,
   "metadata": {
    "ExecuteTime": {
     "end_time": "2018-06-30T04:00:07.252432Z",
     "start_time": "2018-06-30T03:59:35.334Z"
    }
   },
   "outputs": [],
   "source": [
    "bboxes_group[b][3].unsqueeze(0)"
   ]
  },
  {
   "cell_type": "code",
   "execution_count": null,
   "metadata": {
    "ExecuteTime": {
     "end_time": "2018-06-30T04:00:07.255470Z",
     "start_time": "2018-06-30T03:59:35.336Z"
    }
   },
   "outputs": [],
   "source": [
    "box = np.array([[3,0,4,9]]).astype(np.float)"
   ]
  },
  {
   "cell_type": "code",
   "execution_count": null,
   "metadata": {
    "ExecuteTime": {
     "end_time": "2018-06-30T04:00:07.258625Z",
     "start_time": "2018-06-30T03:59:35.337Z"
    }
   },
   "outputs": [],
   "source": [
    "torch.tensor(box)"
   ]
  },
  {
   "cell_type": "code",
   "execution_count": null,
   "metadata": {
    "ExecuteTime": {
     "end_time": "2018-06-30T04:00:07.261643Z",
     "start_time": "2018-06-30T03:59:35.340Z"
    }
   },
   "outputs": [],
   "source": [
    "xywh_2_xcycwh(torch.tensor(box))"
   ]
  }
 ],
 "metadata": {
  "hide_input": false,
  "kernelspec": {
   "display_name": "Python 3",
   "language": "python",
   "name": "python3"
  },
  "language_info": {
   "codemirror_mode": {
    "name": "ipython",
    "version": 3
   },
   "file_extension": ".py",
   "mimetype": "text/x-python",
   "name": "python",
   "nbconvert_exporter": "python",
   "pygments_lexer": "ipython3",
   "version": "3.6.3"
  }
 },
 "nbformat": 4,
 "nbformat_minor": 2
}
